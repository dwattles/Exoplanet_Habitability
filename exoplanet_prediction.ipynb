{
  "cells": [
    {
      "cell_type": "markdown",
      "source": [
        "#Mount Drive"
      ],
      "metadata": {
        "id": "I1NTHQcfx1u8"
      },
      "id": "I1NTHQcfx1u8"
    },
    {
      "cell_type": "code",
      "execution_count": 1,
      "metadata": {
        "colab": {
          "base_uri": "https://localhost:8080/"
        },
        "id": "vFNKwNLaRfBv",
        "outputId": "f6bc6736-12ac-4133-cff2-a1aef27f570c"
      },
      "outputs": [
        {
          "output_type": "stream",
          "name": "stdout",
          "text": [
            "Drive already mounted at /content/drive; to attempt to forcibly remount, call drive.mount(\"/content/drive\", force_remount=True).\n",
            "/content/drive/My Drive/Colab Notebooks\n"
          ]
        }
      ],
      "source": [
        "#mount google drive\n",
        "from google.colab import drive\n",
        "drive.mount('/content/drive')\n",
        "\n",
        "%cd /content/drive/My\\ Drive/Colab Notebooks/"
      ],
      "id": "vFNKwNLaRfBv"
    },
    {
      "cell_type": "markdown",
      "id": "fb3f8216",
      "metadata": {
        "id": "fb3f8216"
      },
      "source": [
        "# Load Data"
      ]
    },
    {
      "cell_type": "code",
      "execution_count": 2,
      "id": "d73791e6-24b3-4986-9716-aed22eae7cf4",
      "metadata": {
        "id": "d73791e6-24b3-4986-9716-aed22eae7cf4"
      },
      "outputs": [],
      "source": [
        "import pandas as pd\n",
        "import numpy as np"
      ]
    },
    {
      "cell_type": "code",
      "execution_count": 3,
      "id": "fd3068bd-5e36-4209-a5cd-65ca8d5b3394",
      "metadata": {
        "id": "fd3068bd-5e36-4209-a5cd-65ca8d5b3394"
      },
      "outputs": [],
      "source": [
        "df = pd.read_csv('phl_exoplanet_catalog_2019.csv')"
      ]
    },
    {
      "cell_type": "code",
      "execution_count": 4,
      "id": "e071b44f-220a-4537-97f6-e9dd309f8828",
      "metadata": {
        "colab": {
          "base_uri": "https://localhost:8080/",
          "height": 386
        },
        "id": "e071b44f-220a-4537-97f6-e9dd309f8828",
        "outputId": "3cf37aee-48a4-492b-8109-ba7a7823d4c6"
      },
      "outputs": [
        {
          "output_type": "execute_result",
          "data": {
            "text/plain": [
              "       P_NAME  P_STATUS      P_MASS  P_MASS_ERROR_MIN  P_MASS_ERROR_MAX  \\\n",
              "0    11 Com b       3.0  6165.86330        -476.74200         476.74200   \n",
              "1    11 UMi b       3.0  4684.78480        -794.57001         794.57001   \n",
              "2    14 And b       3.0  1525.57440               NaN               NaN   \n",
              "3    14 Her b       3.0  1481.07850         -47.67420          47.67420   \n",
              "4  16 Cyg B b       3.0   565.73385         -25.42624          25.42624   \n",
              "\n",
              "   P_RADIUS  P_RADIUS_ERROR_MIN  P_RADIUS_ERROR_MAX  P_YEAR   P_UPDATED  ...  \\\n",
              "0       NaN                 NaN                 NaN    2007  2014-05-14  ...   \n",
              "1       NaN                 NaN                 NaN    2009  2018-09-06  ...   \n",
              "2       NaN                 NaN                 NaN    2008  2014-05-14  ...   \n",
              "3       NaN                 NaN                 NaN    2002  2018-09-06  ...   \n",
              "4       NaN                 NaN                 NaN    1996  2018-09-06  ...   \n",
              "\n",
              "   P_HABZONE_CON  P_TYPE_TEMP  P_HABITABLE     P_ESI  S_CONSTELLATION  \\\n",
              "0              0          Hot            0  0.083813   Coma Berenices   \n",
              "1              0          Hot            0  0.082414       Ursa Minor   \n",
              "2              0          Hot            0  0.081917        Andromeda   \n",
              "3              0         Cold            0  0.145241         Hercules   \n",
              "4              1         Warm            0  0.368627           Cygnus   \n",
              "\n",
              "   S_CONSTELLATION_ABR  S_CONSTELLATION_ENG  P_RADIUS_EST  P_MASS_EST  \\\n",
              "0                  Com      Berenice's Hair     12.082709  6165.86330   \n",
              "1                  UMi          Little Bear     12.229641  4684.78480   \n",
              "2                  And            Andromeda     12.848516  1525.57440   \n",
              "3                  Her             Hercules     12.865261  1481.07850   \n",
              "4                  Cyg                 Swan     13.421749   565.73385   \n",
              "\n",
              "   P_SEMI_MAJOR_AXIS_EST  \n",
              "0                   1.29  \n",
              "1                   1.53  \n",
              "2                   0.83  \n",
              "3                   2.93  \n",
              "4                   1.66  \n",
              "\n",
              "[5 rows x 112 columns]"
            ],
            "text/html": [
              "\n",
              "  <div id=\"df-e5a07528-3311-4588-b67b-b4f1886e72ce\">\n",
              "    <div class=\"colab-df-container\">\n",
              "      <div>\n",
              "<style scoped>\n",
              "    .dataframe tbody tr th:only-of-type {\n",
              "        vertical-align: middle;\n",
              "    }\n",
              "\n",
              "    .dataframe tbody tr th {\n",
              "        vertical-align: top;\n",
              "    }\n",
              "\n",
              "    .dataframe thead th {\n",
              "        text-align: right;\n",
              "    }\n",
              "</style>\n",
              "<table border=\"1\" class=\"dataframe\">\n",
              "  <thead>\n",
              "    <tr style=\"text-align: right;\">\n",
              "      <th></th>\n",
              "      <th>P_NAME</th>\n",
              "      <th>P_STATUS</th>\n",
              "      <th>P_MASS</th>\n",
              "      <th>P_MASS_ERROR_MIN</th>\n",
              "      <th>P_MASS_ERROR_MAX</th>\n",
              "      <th>P_RADIUS</th>\n",
              "      <th>P_RADIUS_ERROR_MIN</th>\n",
              "      <th>P_RADIUS_ERROR_MAX</th>\n",
              "      <th>P_YEAR</th>\n",
              "      <th>P_UPDATED</th>\n",
              "      <th>...</th>\n",
              "      <th>P_HABZONE_CON</th>\n",
              "      <th>P_TYPE_TEMP</th>\n",
              "      <th>P_HABITABLE</th>\n",
              "      <th>P_ESI</th>\n",
              "      <th>S_CONSTELLATION</th>\n",
              "      <th>S_CONSTELLATION_ABR</th>\n",
              "      <th>S_CONSTELLATION_ENG</th>\n",
              "      <th>P_RADIUS_EST</th>\n",
              "      <th>P_MASS_EST</th>\n",
              "      <th>P_SEMI_MAJOR_AXIS_EST</th>\n",
              "    </tr>\n",
              "  </thead>\n",
              "  <tbody>\n",
              "    <tr>\n",
              "      <th>0</th>\n",
              "      <td>11 Com b</td>\n",
              "      <td>3.0</td>\n",
              "      <td>6165.86330</td>\n",
              "      <td>-476.74200</td>\n",
              "      <td>476.74200</td>\n",
              "      <td>NaN</td>\n",
              "      <td>NaN</td>\n",
              "      <td>NaN</td>\n",
              "      <td>2007</td>\n",
              "      <td>2014-05-14</td>\n",
              "      <td>...</td>\n",
              "      <td>0</td>\n",
              "      <td>Hot</td>\n",
              "      <td>0</td>\n",
              "      <td>0.083813</td>\n",
              "      <td>Coma Berenices</td>\n",
              "      <td>Com</td>\n",
              "      <td>Berenice's Hair</td>\n",
              "      <td>12.082709</td>\n",
              "      <td>6165.86330</td>\n",
              "      <td>1.29</td>\n",
              "    </tr>\n",
              "    <tr>\n",
              "      <th>1</th>\n",
              "      <td>11 UMi b</td>\n",
              "      <td>3.0</td>\n",
              "      <td>4684.78480</td>\n",
              "      <td>-794.57001</td>\n",
              "      <td>794.57001</td>\n",
              "      <td>NaN</td>\n",
              "      <td>NaN</td>\n",
              "      <td>NaN</td>\n",
              "      <td>2009</td>\n",
              "      <td>2018-09-06</td>\n",
              "      <td>...</td>\n",
              "      <td>0</td>\n",
              "      <td>Hot</td>\n",
              "      <td>0</td>\n",
              "      <td>0.082414</td>\n",
              "      <td>Ursa Minor</td>\n",
              "      <td>UMi</td>\n",
              "      <td>Little Bear</td>\n",
              "      <td>12.229641</td>\n",
              "      <td>4684.78480</td>\n",
              "      <td>1.53</td>\n",
              "    </tr>\n",
              "    <tr>\n",
              "      <th>2</th>\n",
              "      <td>14 And b</td>\n",
              "      <td>3.0</td>\n",
              "      <td>1525.57440</td>\n",
              "      <td>NaN</td>\n",
              "      <td>NaN</td>\n",
              "      <td>NaN</td>\n",
              "      <td>NaN</td>\n",
              "      <td>NaN</td>\n",
              "      <td>2008</td>\n",
              "      <td>2014-05-14</td>\n",
              "      <td>...</td>\n",
              "      <td>0</td>\n",
              "      <td>Hot</td>\n",
              "      <td>0</td>\n",
              "      <td>0.081917</td>\n",
              "      <td>Andromeda</td>\n",
              "      <td>And</td>\n",
              "      <td>Andromeda</td>\n",
              "      <td>12.848516</td>\n",
              "      <td>1525.57440</td>\n",
              "      <td>0.83</td>\n",
              "    </tr>\n",
              "    <tr>\n",
              "      <th>3</th>\n",
              "      <td>14 Her b</td>\n",
              "      <td>3.0</td>\n",
              "      <td>1481.07850</td>\n",
              "      <td>-47.67420</td>\n",
              "      <td>47.67420</td>\n",
              "      <td>NaN</td>\n",
              "      <td>NaN</td>\n",
              "      <td>NaN</td>\n",
              "      <td>2002</td>\n",
              "      <td>2018-09-06</td>\n",
              "      <td>...</td>\n",
              "      <td>0</td>\n",
              "      <td>Cold</td>\n",
              "      <td>0</td>\n",
              "      <td>0.145241</td>\n",
              "      <td>Hercules</td>\n",
              "      <td>Her</td>\n",
              "      <td>Hercules</td>\n",
              "      <td>12.865261</td>\n",
              "      <td>1481.07850</td>\n",
              "      <td>2.93</td>\n",
              "    </tr>\n",
              "    <tr>\n",
              "      <th>4</th>\n",
              "      <td>16 Cyg B b</td>\n",
              "      <td>3.0</td>\n",
              "      <td>565.73385</td>\n",
              "      <td>-25.42624</td>\n",
              "      <td>25.42624</td>\n",
              "      <td>NaN</td>\n",
              "      <td>NaN</td>\n",
              "      <td>NaN</td>\n",
              "      <td>1996</td>\n",
              "      <td>2018-09-06</td>\n",
              "      <td>...</td>\n",
              "      <td>1</td>\n",
              "      <td>Warm</td>\n",
              "      <td>0</td>\n",
              "      <td>0.368627</td>\n",
              "      <td>Cygnus</td>\n",
              "      <td>Cyg</td>\n",
              "      <td>Swan</td>\n",
              "      <td>13.421749</td>\n",
              "      <td>565.73385</td>\n",
              "      <td>1.66</td>\n",
              "    </tr>\n",
              "  </tbody>\n",
              "</table>\n",
              "<p>5 rows × 112 columns</p>\n",
              "</div>\n",
              "      <button class=\"colab-df-convert\" onclick=\"convertToInteractive('df-e5a07528-3311-4588-b67b-b4f1886e72ce')\"\n",
              "              title=\"Convert this dataframe to an interactive table.\"\n",
              "              style=\"display:none;\">\n",
              "        \n",
              "  <svg xmlns=\"http://www.w3.org/2000/svg\" height=\"24px\"viewBox=\"0 0 24 24\"\n",
              "       width=\"24px\">\n",
              "    <path d=\"M0 0h24v24H0V0z\" fill=\"none\"/>\n",
              "    <path d=\"M18.56 5.44l.94 2.06.94-2.06 2.06-.94-2.06-.94-.94-2.06-.94 2.06-2.06.94zm-11 1L8.5 8.5l.94-2.06 2.06-.94-2.06-.94L8.5 2.5l-.94 2.06-2.06.94zm10 10l.94 2.06.94-2.06 2.06-.94-2.06-.94-.94-2.06-.94 2.06-2.06.94z\"/><path d=\"M17.41 7.96l-1.37-1.37c-.4-.4-.92-.59-1.43-.59-.52 0-1.04.2-1.43.59L10.3 9.45l-7.72 7.72c-.78.78-.78 2.05 0 2.83L4 21.41c.39.39.9.59 1.41.59.51 0 1.02-.2 1.41-.59l7.78-7.78 2.81-2.81c.8-.78.8-2.07 0-2.86zM5.41 20L4 18.59l7.72-7.72 1.47 1.35L5.41 20z\"/>\n",
              "  </svg>\n",
              "      </button>\n",
              "      \n",
              "  <style>\n",
              "    .colab-df-container {\n",
              "      display:flex;\n",
              "      flex-wrap:wrap;\n",
              "      gap: 12px;\n",
              "    }\n",
              "\n",
              "    .colab-df-convert {\n",
              "      background-color: #E8F0FE;\n",
              "      border: none;\n",
              "      border-radius: 50%;\n",
              "      cursor: pointer;\n",
              "      display: none;\n",
              "      fill: #1967D2;\n",
              "      height: 32px;\n",
              "      padding: 0 0 0 0;\n",
              "      width: 32px;\n",
              "    }\n",
              "\n",
              "    .colab-df-convert:hover {\n",
              "      background-color: #E2EBFA;\n",
              "      box-shadow: 0px 1px 2px rgba(60, 64, 67, 0.3), 0px 1px 3px 1px rgba(60, 64, 67, 0.15);\n",
              "      fill: #174EA6;\n",
              "    }\n",
              "\n",
              "    [theme=dark] .colab-df-convert {\n",
              "      background-color: #3B4455;\n",
              "      fill: #D2E3FC;\n",
              "    }\n",
              "\n",
              "    [theme=dark] .colab-df-convert:hover {\n",
              "      background-color: #434B5C;\n",
              "      box-shadow: 0px 1px 3px 1px rgba(0, 0, 0, 0.15);\n",
              "      filter: drop-shadow(0px 1px 2px rgba(0, 0, 0, 0.3));\n",
              "      fill: #FFFFFF;\n",
              "    }\n",
              "  </style>\n",
              "\n",
              "      <script>\n",
              "        const buttonEl =\n",
              "          document.querySelector('#df-e5a07528-3311-4588-b67b-b4f1886e72ce button.colab-df-convert');\n",
              "        buttonEl.style.display =\n",
              "          google.colab.kernel.accessAllowed ? 'block' : 'none';\n",
              "\n",
              "        async function convertToInteractive(key) {\n",
              "          const element = document.querySelector('#df-e5a07528-3311-4588-b67b-b4f1886e72ce');\n",
              "          const dataTable =\n",
              "            await google.colab.kernel.invokeFunction('convertToInteractive',\n",
              "                                                     [key], {});\n",
              "          if (!dataTable) return;\n",
              "\n",
              "          const docLinkHtml = 'Like what you see? Visit the ' +\n",
              "            '<a target=\"_blank\" href=https://colab.research.google.com/notebooks/data_table.ipynb>data table notebook</a>'\n",
              "            + ' to learn more about interactive tables.';\n",
              "          element.innerHTML = '';\n",
              "          dataTable['output_type'] = 'display_data';\n",
              "          await google.colab.output.renderOutput(dataTable, element);\n",
              "          const docLink = document.createElement('div');\n",
              "          docLink.innerHTML = docLinkHtml;\n",
              "          element.appendChild(docLink);\n",
              "        }\n",
              "      </script>\n",
              "    </div>\n",
              "  </div>\n",
              "  "
            ]
          },
          "metadata": {},
          "execution_count": 4
        }
      ],
      "source": [
        "df.head()"
      ]
    },
    {
      "cell_type": "markdown",
      "id": "2c66be78",
      "metadata": {
        "id": "2c66be78"
      },
      "source": [
        "# EDA"
      ]
    },
    {
      "cell_type": "code",
      "execution_count": 5,
      "id": "242ea03f",
      "metadata": {
        "id": "242ea03f"
      },
      "outputs": [],
      "source": [
        "import matplotlib.pyplot as plt\n",
        "import seaborn as sns\n",
        "\n",
        "plt.style.use('ggplot')"
      ]
    },
    {
      "cell_type": "code",
      "source": [
        "df.info()"
      ],
      "metadata": {
        "colab": {
          "base_uri": "https://localhost:8080/"
        },
        "id": "kCjhovaHsPxq",
        "outputId": "ee07a0ad-95b2-4214-ed0b-bd87575d7322"
      },
      "id": "kCjhovaHsPxq",
      "execution_count": 6,
      "outputs": [
        {
          "output_type": "stream",
          "name": "stdout",
          "text": [
            "<class 'pandas.core.frame.DataFrame'>\n",
            "RangeIndex: 4048 entries, 0 to 4047\n",
            "Columns: 112 entries, P_NAME to P_SEMI_MAJOR_AXIS_EST\n",
            "dtypes: float64(94), int64(4), object(14)\n",
            "memory usage: 3.5+ MB\n"
          ]
        }
      ]
    },
    {
      "cell_type": "code",
      "execution_count": 7,
      "id": "740774de",
      "metadata": {
        "colab": {
          "base_uri": "https://localhost:8080/",
          "height": 386
        },
        "id": "740774de",
        "outputId": "cd0b6544-9fe4-4e15-d55e-75d0d4e2d989"
      },
      "outputs": [
        {
          "output_type": "execute_result",
          "data": {
            "text/plain": [
              "       P_NAME  P_STATUS      P_MASS  P_MASS_ERROR_MIN  P_MASS_ERROR_MAX  \\\n",
              "0    11 Com b       3.0  6165.86330        -476.74200         476.74200   \n",
              "1    11 UMi b       3.0  4684.78480        -794.57001         794.57001   \n",
              "2    14 And b       3.0  1525.57440               NaN               NaN   \n",
              "3    14 Her b       3.0  1481.07850         -47.67420          47.67420   \n",
              "4  16 Cyg B b       3.0   565.73385         -25.42624          25.42624   \n",
              "\n",
              "   P_RADIUS  P_RADIUS_ERROR_MIN  P_RADIUS_ERROR_MAX  P_YEAR   P_UPDATED  ...  \\\n",
              "0       NaN                 NaN                 NaN    2007  2014-05-14  ...   \n",
              "1       NaN                 NaN                 NaN    2009  2018-09-06  ...   \n",
              "2       NaN                 NaN                 NaN    2008  2014-05-14  ...   \n",
              "3       NaN                 NaN                 NaN    2002  2018-09-06  ...   \n",
              "4       NaN                 NaN                 NaN    1996  2018-09-06  ...   \n",
              "\n",
              "   P_HABZONE_CON  P_TYPE_TEMP  P_HABITABLE     P_ESI  S_CONSTELLATION  \\\n",
              "0              0          Hot            0  0.083813   Coma Berenices   \n",
              "1              0          Hot            0  0.082414       Ursa Minor   \n",
              "2              0          Hot            0  0.081917        Andromeda   \n",
              "3              0         Cold            0  0.145241         Hercules   \n",
              "4              1         Warm            0  0.368627           Cygnus   \n",
              "\n",
              "   S_CONSTELLATION_ABR  S_CONSTELLATION_ENG  P_RADIUS_EST  P_MASS_EST  \\\n",
              "0                  Com      Berenice's Hair     12.082709  6165.86330   \n",
              "1                  UMi          Little Bear     12.229641  4684.78480   \n",
              "2                  And            Andromeda     12.848516  1525.57440   \n",
              "3                  Her             Hercules     12.865261  1481.07850   \n",
              "4                  Cyg                 Swan     13.421749   565.73385   \n",
              "\n",
              "   P_SEMI_MAJOR_AXIS_EST  \n",
              "0                   1.29  \n",
              "1                   1.53  \n",
              "2                   0.83  \n",
              "3                   2.93  \n",
              "4                   1.66  \n",
              "\n",
              "[5 rows x 112 columns]"
            ],
            "text/html": [
              "\n",
              "  <div id=\"df-786d7f6d-a772-456d-bf02-66203844e30a\">\n",
              "    <div class=\"colab-df-container\">\n",
              "      <div>\n",
              "<style scoped>\n",
              "    .dataframe tbody tr th:only-of-type {\n",
              "        vertical-align: middle;\n",
              "    }\n",
              "\n",
              "    .dataframe tbody tr th {\n",
              "        vertical-align: top;\n",
              "    }\n",
              "\n",
              "    .dataframe thead th {\n",
              "        text-align: right;\n",
              "    }\n",
              "</style>\n",
              "<table border=\"1\" class=\"dataframe\">\n",
              "  <thead>\n",
              "    <tr style=\"text-align: right;\">\n",
              "      <th></th>\n",
              "      <th>P_NAME</th>\n",
              "      <th>P_STATUS</th>\n",
              "      <th>P_MASS</th>\n",
              "      <th>P_MASS_ERROR_MIN</th>\n",
              "      <th>P_MASS_ERROR_MAX</th>\n",
              "      <th>P_RADIUS</th>\n",
              "      <th>P_RADIUS_ERROR_MIN</th>\n",
              "      <th>P_RADIUS_ERROR_MAX</th>\n",
              "      <th>P_YEAR</th>\n",
              "      <th>P_UPDATED</th>\n",
              "      <th>...</th>\n",
              "      <th>P_HABZONE_CON</th>\n",
              "      <th>P_TYPE_TEMP</th>\n",
              "      <th>P_HABITABLE</th>\n",
              "      <th>P_ESI</th>\n",
              "      <th>S_CONSTELLATION</th>\n",
              "      <th>S_CONSTELLATION_ABR</th>\n",
              "      <th>S_CONSTELLATION_ENG</th>\n",
              "      <th>P_RADIUS_EST</th>\n",
              "      <th>P_MASS_EST</th>\n",
              "      <th>P_SEMI_MAJOR_AXIS_EST</th>\n",
              "    </tr>\n",
              "  </thead>\n",
              "  <tbody>\n",
              "    <tr>\n",
              "      <th>0</th>\n",
              "      <td>11 Com b</td>\n",
              "      <td>3.0</td>\n",
              "      <td>6165.86330</td>\n",
              "      <td>-476.74200</td>\n",
              "      <td>476.74200</td>\n",
              "      <td>NaN</td>\n",
              "      <td>NaN</td>\n",
              "      <td>NaN</td>\n",
              "      <td>2007</td>\n",
              "      <td>2014-05-14</td>\n",
              "      <td>...</td>\n",
              "      <td>0</td>\n",
              "      <td>Hot</td>\n",
              "      <td>0</td>\n",
              "      <td>0.083813</td>\n",
              "      <td>Coma Berenices</td>\n",
              "      <td>Com</td>\n",
              "      <td>Berenice's Hair</td>\n",
              "      <td>12.082709</td>\n",
              "      <td>6165.86330</td>\n",
              "      <td>1.29</td>\n",
              "    </tr>\n",
              "    <tr>\n",
              "      <th>1</th>\n",
              "      <td>11 UMi b</td>\n",
              "      <td>3.0</td>\n",
              "      <td>4684.78480</td>\n",
              "      <td>-794.57001</td>\n",
              "      <td>794.57001</td>\n",
              "      <td>NaN</td>\n",
              "      <td>NaN</td>\n",
              "      <td>NaN</td>\n",
              "      <td>2009</td>\n",
              "      <td>2018-09-06</td>\n",
              "      <td>...</td>\n",
              "      <td>0</td>\n",
              "      <td>Hot</td>\n",
              "      <td>0</td>\n",
              "      <td>0.082414</td>\n",
              "      <td>Ursa Minor</td>\n",
              "      <td>UMi</td>\n",
              "      <td>Little Bear</td>\n",
              "      <td>12.229641</td>\n",
              "      <td>4684.78480</td>\n",
              "      <td>1.53</td>\n",
              "    </tr>\n",
              "    <tr>\n",
              "      <th>2</th>\n",
              "      <td>14 And b</td>\n",
              "      <td>3.0</td>\n",
              "      <td>1525.57440</td>\n",
              "      <td>NaN</td>\n",
              "      <td>NaN</td>\n",
              "      <td>NaN</td>\n",
              "      <td>NaN</td>\n",
              "      <td>NaN</td>\n",
              "      <td>2008</td>\n",
              "      <td>2014-05-14</td>\n",
              "      <td>...</td>\n",
              "      <td>0</td>\n",
              "      <td>Hot</td>\n",
              "      <td>0</td>\n",
              "      <td>0.081917</td>\n",
              "      <td>Andromeda</td>\n",
              "      <td>And</td>\n",
              "      <td>Andromeda</td>\n",
              "      <td>12.848516</td>\n",
              "      <td>1525.57440</td>\n",
              "      <td>0.83</td>\n",
              "    </tr>\n",
              "    <tr>\n",
              "      <th>3</th>\n",
              "      <td>14 Her b</td>\n",
              "      <td>3.0</td>\n",
              "      <td>1481.07850</td>\n",
              "      <td>-47.67420</td>\n",
              "      <td>47.67420</td>\n",
              "      <td>NaN</td>\n",
              "      <td>NaN</td>\n",
              "      <td>NaN</td>\n",
              "      <td>2002</td>\n",
              "      <td>2018-09-06</td>\n",
              "      <td>...</td>\n",
              "      <td>0</td>\n",
              "      <td>Cold</td>\n",
              "      <td>0</td>\n",
              "      <td>0.145241</td>\n",
              "      <td>Hercules</td>\n",
              "      <td>Her</td>\n",
              "      <td>Hercules</td>\n",
              "      <td>12.865261</td>\n",
              "      <td>1481.07850</td>\n",
              "      <td>2.93</td>\n",
              "    </tr>\n",
              "    <tr>\n",
              "      <th>4</th>\n",
              "      <td>16 Cyg B b</td>\n",
              "      <td>3.0</td>\n",
              "      <td>565.73385</td>\n",
              "      <td>-25.42624</td>\n",
              "      <td>25.42624</td>\n",
              "      <td>NaN</td>\n",
              "      <td>NaN</td>\n",
              "      <td>NaN</td>\n",
              "      <td>1996</td>\n",
              "      <td>2018-09-06</td>\n",
              "      <td>...</td>\n",
              "      <td>1</td>\n",
              "      <td>Warm</td>\n",
              "      <td>0</td>\n",
              "      <td>0.368627</td>\n",
              "      <td>Cygnus</td>\n",
              "      <td>Cyg</td>\n",
              "      <td>Swan</td>\n",
              "      <td>13.421749</td>\n",
              "      <td>565.73385</td>\n",
              "      <td>1.66</td>\n",
              "    </tr>\n",
              "  </tbody>\n",
              "</table>\n",
              "<p>5 rows × 112 columns</p>\n",
              "</div>\n",
              "      <button class=\"colab-df-convert\" onclick=\"convertToInteractive('df-786d7f6d-a772-456d-bf02-66203844e30a')\"\n",
              "              title=\"Convert this dataframe to an interactive table.\"\n",
              "              style=\"display:none;\">\n",
              "        \n",
              "  <svg xmlns=\"http://www.w3.org/2000/svg\" height=\"24px\"viewBox=\"0 0 24 24\"\n",
              "       width=\"24px\">\n",
              "    <path d=\"M0 0h24v24H0V0z\" fill=\"none\"/>\n",
              "    <path d=\"M18.56 5.44l.94 2.06.94-2.06 2.06-.94-2.06-.94-.94-2.06-.94 2.06-2.06.94zm-11 1L8.5 8.5l.94-2.06 2.06-.94-2.06-.94L8.5 2.5l-.94 2.06-2.06.94zm10 10l.94 2.06.94-2.06 2.06-.94-2.06-.94-.94-2.06-.94 2.06-2.06.94z\"/><path d=\"M17.41 7.96l-1.37-1.37c-.4-.4-.92-.59-1.43-.59-.52 0-1.04.2-1.43.59L10.3 9.45l-7.72 7.72c-.78.78-.78 2.05 0 2.83L4 21.41c.39.39.9.59 1.41.59.51 0 1.02-.2 1.41-.59l7.78-7.78 2.81-2.81c.8-.78.8-2.07 0-2.86zM5.41 20L4 18.59l7.72-7.72 1.47 1.35L5.41 20z\"/>\n",
              "  </svg>\n",
              "      </button>\n",
              "      \n",
              "  <style>\n",
              "    .colab-df-container {\n",
              "      display:flex;\n",
              "      flex-wrap:wrap;\n",
              "      gap: 12px;\n",
              "    }\n",
              "\n",
              "    .colab-df-convert {\n",
              "      background-color: #E8F0FE;\n",
              "      border: none;\n",
              "      border-radius: 50%;\n",
              "      cursor: pointer;\n",
              "      display: none;\n",
              "      fill: #1967D2;\n",
              "      height: 32px;\n",
              "      padding: 0 0 0 0;\n",
              "      width: 32px;\n",
              "    }\n",
              "\n",
              "    .colab-df-convert:hover {\n",
              "      background-color: #E2EBFA;\n",
              "      box-shadow: 0px 1px 2px rgba(60, 64, 67, 0.3), 0px 1px 3px 1px rgba(60, 64, 67, 0.15);\n",
              "      fill: #174EA6;\n",
              "    }\n",
              "\n",
              "    [theme=dark] .colab-df-convert {\n",
              "      background-color: #3B4455;\n",
              "      fill: #D2E3FC;\n",
              "    }\n",
              "\n",
              "    [theme=dark] .colab-df-convert:hover {\n",
              "      background-color: #434B5C;\n",
              "      box-shadow: 0px 1px 3px 1px rgba(0, 0, 0, 0.15);\n",
              "      filter: drop-shadow(0px 1px 2px rgba(0, 0, 0, 0.3));\n",
              "      fill: #FFFFFF;\n",
              "    }\n",
              "  </style>\n",
              "\n",
              "      <script>\n",
              "        const buttonEl =\n",
              "          document.querySelector('#df-786d7f6d-a772-456d-bf02-66203844e30a button.colab-df-convert');\n",
              "        buttonEl.style.display =\n",
              "          google.colab.kernel.accessAllowed ? 'block' : 'none';\n",
              "\n",
              "        async function convertToInteractive(key) {\n",
              "          const element = document.querySelector('#df-786d7f6d-a772-456d-bf02-66203844e30a');\n",
              "          const dataTable =\n",
              "            await google.colab.kernel.invokeFunction('convertToInteractive',\n",
              "                                                     [key], {});\n",
              "          if (!dataTable) return;\n",
              "\n",
              "          const docLinkHtml = 'Like what you see? Visit the ' +\n",
              "            '<a target=\"_blank\" href=https://colab.research.google.com/notebooks/data_table.ipynb>data table notebook</a>'\n",
              "            + ' to learn more about interactive tables.';\n",
              "          element.innerHTML = '';\n",
              "          dataTable['output_type'] = 'display_data';\n",
              "          await google.colab.output.renderOutput(dataTable, element);\n",
              "          const docLink = document.createElement('div');\n",
              "          docLink.innerHTML = docLinkHtml;\n",
              "          element.appendChild(docLink);\n",
              "        }\n",
              "      </script>\n",
              "    </div>\n",
              "  </div>\n",
              "  "
            ]
          },
          "metadata": {},
          "execution_count": 7
        }
      ],
      "source": [
        "df.head()"
      ]
    },
    {
      "cell_type": "markdown",
      "source": [
        "Plot Target Distribution"
      ],
      "metadata": {
        "id": "PGNXY02ULKAP"
      },
      "id": "PGNXY02ULKAP"
    },
    {
      "cell_type": "code",
      "source": [
        "df['P_HABITABLE'].value_counts(sort=False).sort_index().plot(kind='bar', title='Target Counts')"
      ],
      "metadata": {
        "colab": {
          "base_uri": "https://localhost:8080/",
          "height": 466
        },
        "id": "6kWM3U2HLG0V",
        "outputId": "d21b2c23-c7c5-415c-ce6b-0ec378813ad1"
      },
      "id": "6kWM3U2HLG0V",
      "execution_count": 8,
      "outputs": [
        {
          "output_type": "execute_result",
          "data": {
            "text/plain": [
              "<Axes: title={'center': 'Target Counts'}>"
            ]
          },
          "metadata": {},
          "execution_count": 8
        },
        {
          "output_type": "display_data",
          "data": {
            "text/plain": [
              "<Figure size 640x480 with 1 Axes>"
            ],
            "image/png": "[encoded data removed]"
          },
          "metadata": {}
        }
      ]
    },
    {
      "cell_type": "code",
      "source": [
        "df['P_HABITABLE'].value_counts()"
      ],
      "metadata": {
        "colab": {
          "base_uri": "https://localhost:8080/"
        },
        "id": "pMASR318t3p9",
        "outputId": "2a38b181-b83a-4925-b4c7-bd9a3df580a2"
      },
      "id": "pMASR318t3p9",
      "execution_count": 9,
      "outputs": [
        {
          "output_type": "execute_result",
          "data": {
            "text/plain": [
              "0    3993\n",
              "2      34\n",
              "1      21\n",
              "Name: P_HABITABLE, dtype: int64"
            ]
          },
          "metadata": {},
          "execution_count": 9
        }
      ]
    },
    {
      "cell_type": "markdown",
      "source": [
        "#Data Cleaning and Preprocessing"
      ],
      "metadata": {
        "id": "YB3BDn4BHlGv"
      },
      "id": "YB3BDn4BHlGv"
    },
    {
      "cell_type": "markdown",
      "source": [
        "Impute non numeric missing values, drop columns containing many na's"
      ],
      "metadata": {
        "id": "1SWJhGxzG2TO"
      },
      "id": "1SWJhGxzG2TO"
    },
    {
      "cell_type": "code",
      "source": [
        "#Calculate the total number of examples\n",
        "count = df.isnull().sum().sort_values(ascending=False)\n",
        "\n",
        "#Return the fraction of a column which is filled with missing values\n",
        "percent = ((df.isnull().sum()/df.isnull().count())*100).sort_values(ascending=False)\n",
        "\n",
        "#Merge count and percent to display\n",
        "missing = pd.concat([count, percent], axis = 1, keys = ['Count', '%'])\n",
        "\n",
        "missing.head()"
      ],
      "metadata": {
        "id": "6FhYroaTsctl",
        "colab": {
          "base_uri": "https://localhost:8080/",
          "height": 206
        },
        "outputId": "6c3c2964-223c-4498-9eed-a64a451c4a88"
      },
      "id": "6FhYroaTsctl",
      "execution_count": 10,
      "outputs": [
        {
          "output_type": "execute_result",
          "data": {
            "text/plain": [
              "                  Count      %\n",
              "P_DETECTION_MASS   4048  100.0\n",
              "P_GEO_ALBEDO       4048  100.0\n",
              "S_MAGNETIC_FIELD   4048  100.0\n",
              "S_DISC             4048  100.0\n",
              "P_ATMOSPHERE       4048  100.0"
            ],
            "text/html": [
              "\n",
              "  <div id=\"df-fbf70cf5-5053-402a-ba5c-b2e044c5193f\">\n",
              "    <div class=\"colab-df-container\">\n",
              "      <div>\n",
              "<style scoped>\n",
              "    .dataframe tbody tr th:only-of-type {\n",
              "        vertical-align: middle;\n",
              "    }\n",
              "\n",
              "    .dataframe tbody tr th {\n",
              "        vertical-align: top;\n",
              "    }\n",
              "\n",
              "    .dataframe thead th {\n",
              "        text-align: right;\n",
              "    }\n",
              "</style>\n",
              "<table border=\"1\" class=\"dataframe\">\n",
              "  <thead>\n",
              "    <tr style=\"text-align: right;\">\n",
              "      <th></th>\n",
              "      <th>Count</th>\n",
              "      <th>%</th>\n",
              "    </tr>\n",
              "  </thead>\n",
              "  <tbody>\n",
              "    <tr>\n",
              "      <th>P_DETECTION_MASS</th>\n",
              "      <td>4048</td>\n",
              "      <td>100.0</td>\n",
              "    </tr>\n",
              "    <tr>\n",
              "      <th>P_GEO_ALBEDO</th>\n",
              "      <td>4048</td>\n",
              "      <td>100.0</td>\n",
              "    </tr>\n",
              "    <tr>\n",
              "      <th>S_MAGNETIC_FIELD</th>\n",
              "      <td>4048</td>\n",
              "      <td>100.0</td>\n",
              "    </tr>\n",
              "    <tr>\n",
              "      <th>S_DISC</th>\n",
              "      <td>4048</td>\n",
              "      <td>100.0</td>\n",
              "    </tr>\n",
              "    <tr>\n",
              "      <th>P_ATMOSPHERE</th>\n",
              "      <td>4048</td>\n",
              "      <td>100.0</td>\n",
              "    </tr>\n",
              "  </tbody>\n",
              "</table>\n",
              "</div>\n",
              "      <button class=\"colab-df-convert\" onclick=\"convertToInteractive('df-fbf70cf5-5053-402a-ba5c-b2e044c5193f')\"\n",
              "              title=\"Convert this dataframe to an interactive table.\"\n",
              "              style=\"display:none;\">\n",
              "        \n",
              "  <svg xmlns=\"http://www.w3.org/2000/svg\" height=\"24px\"viewBox=\"0 0 24 24\"\n",
              "       width=\"24px\">\n",
              "    <path d=\"M0 0h24v24H0V0z\" fill=\"none\"/>\n",
              "    <path d=\"M18.56 5.44l.94 2.06.94-2.06 2.06-.94-2.06-.94-.94-2.06-.94 2.06-2.06.94zm-11 1L8.5 8.5l.94-2.06 2.06-.94-2.06-.94L8.5 2.5l-.94 2.06-2.06.94zm10 10l.94 2.06.94-2.06 2.06-.94-2.06-.94-.94-2.06-.94 2.06-2.06.94z\"/><path d=\"M17.41 7.96l-1.37-1.37c-.4-.4-.92-.59-1.43-.59-.52 0-1.04.2-1.43.59L10.3 9.45l-7.72 7.72c-.78.78-.78 2.05 0 2.83L4 21.41c.39.39.9.59 1.41.59.51 0 1.02-.2 1.41-.59l7.78-7.78 2.81-2.81c.8-.78.8-2.07 0-2.86zM5.41 20L4 18.59l7.72-7.72 1.47 1.35L5.41 20z\"/>\n",
              "  </svg>\n",
              "      </button>\n",
              "      \n",
              "  <style>\n",
              "    .colab-df-container {\n",
              "      display:flex;\n",
              "      flex-wrap:wrap;\n",
              "      gap: 12px;\n",
              "    }\n",
              "\n",
              "    .colab-df-convert {\n",
              "      background-color: #E8F0FE;\n",
              "      border: none;\n",
              "      border-radius: 50%;\n",
              "      cursor: pointer;\n",
              "      display: none;\n",
              "      fill: #1967D2;\n",
              "      height: 32px;\n",
              "      padding: 0 0 0 0;\n",
              "      width: 32px;\n",
              "    }\n",
              "\n",
              "    .colab-df-convert:hover {\n",
              "      background-color: #E2EBFA;\n",
              "      box-shadow: 0px 1px 2px rgba(60, 64, 67, 0.3), 0px 1px 3px 1px rgba(60, 64, 67, 0.15);\n",
              "      fill: #174EA6;\n",
              "    }\n",
              "\n",
              "    [theme=dark] .colab-df-convert {\n",
              "      background-color: #3B4455;\n",
              "      fill: #D2E3FC;\n",
              "    }\n",
              "\n",
              "    [theme=dark] .colab-df-convert:hover {\n",
              "      background-color: #434B5C;\n",
              "      box-shadow: 0px 1px 3px 1px rgba(0, 0, 0, 0.15);\n",
              "      filter: drop-shadow(0px 1px 2px rgba(0, 0, 0, 0.3));\n",
              "      fill: #FFFFFF;\n",
              "    }\n",
              "  </style>\n",
              "\n",
              "      <script>\n",
              "        const buttonEl =\n",
              "          document.querySelector('#df-fbf70cf5-5053-402a-ba5c-b2e044c5193f button.colab-df-convert');\n",
              "        buttonEl.style.display =\n",
              "          google.colab.kernel.accessAllowed ? 'block' : 'none';\n",
              "\n",
              "        async function convertToInteractive(key) {\n",
              "          const element = document.querySelector('#df-fbf70cf5-5053-402a-ba5c-b2e044c5193f');\n",
              "          const dataTable =\n",
              "            await google.colab.kernel.invokeFunction('convertToInteractive',\n",
              "                                                     [key], {});\n",
              "          if (!dataTable) return;\n",
              "\n",
              "          const docLinkHtml = 'Like what you see? Visit the ' +\n",
              "            '<a target=\"_blank\" href=https://colab.research.google.com/notebooks/data_table.ipynb>data table notebook</a>'\n",
              "            + ' to learn more about interactive tables.';\n",
              "          element.innerHTML = '';\n",
              "          dataTable['output_type'] = 'display_data';\n",
              "          await google.colab.output.renderOutput(dataTable, element);\n",
              "          const docLink = document.createElement('div');\n",
              "          docLink.innerHTML = docLinkHtml;\n",
              "          element.appendChild(docLink);\n",
              "        }\n",
              "      </script>\n",
              "    </div>\n",
              "  </div>\n",
              "  "
            ]
          },
          "metadata": {},
          "execution_count": 10
        }
      ]
    },
    {
      "cell_type": "code",
      "source": [
        "missing = missing.T\n",
        "df = df.drop(columns=[col for col in df.columns if missing[col]['%']>=40 ], axis=1)"
      ],
      "metadata": {
        "id": "kmLpv0nW0wZh"
      },
      "id": "kmLpv0nW0wZh",
      "execution_count": 11,
      "outputs": []
    },
    {
      "cell_type": "markdown",
      "source": [
        "impute missing values in categorical columns"
      ],
      "metadata": {
        "id": "YX8Vz_5XK1Vu"
      },
      "id": "YX8Vz_5XK1Vu"
    },
    {
      "cell_type": "code",
      "source": [
        "categorical_cols = df.select_dtypes(include=['object']).columns\n",
        "\n",
        "for col in categorical_cols:\n",
        "  df[col] = df[col].fillna(df[col].mode()[0])"
      ],
      "metadata": {
        "id": "STHVpgOyLgXt"
      },
      "id": "STHVpgOyLgXt",
      "execution_count": 12,
      "outputs": []
    },
    {
      "cell_type": "markdown",
      "source": [
        "convert ordinal categorical columns to numeric\n",
        "\n",
        "[field descriptions](https://phl.upr.edu/projects/habitable-exoplanets-catalog/hec-data-of-potentially-habitable-worlds/phls-exoplanets-catalog)"
      ],
      "metadata": {
        "id": "OJzqM_XvSMrx"
      },
      "id": "OJzqM_XvSMrx"
    },
    {
      "cell_type": "code",
      "source": [
        "categorical_cols = df.select_dtypes(include=['object']).columns\n",
        "df[categorical_cols]"
      ],
      "metadata": {
        "id": "jPmZn6ujdfzr",
        "colab": {
          "base_uri": "https://localhost:8080/",
          "height": 467
        },
        "outputId": "4fd29ca5-8758-4f17-8dd1-59dd1bbe24a3"
      },
      "id": "jPmZn6ujdfzr",
      "execution_count": 13,
      "outputs": [
        {
          "output_type": "execute_result",
          "data": {
            "text/plain": [
              "          P_NAME   P_UPDATED      P_DETECTION    S_NAME  \\\n",
              "0       11 Com b  2014-05-14  Radial Velocity    11 Com   \n",
              "1       11 UMi b  2018-09-06  Radial Velocity    11 UMi   \n",
              "2       14 And b  2014-05-14  Radial Velocity    14 And   \n",
              "3       14 Her b  2018-09-06  Radial Velocity    14 Her   \n",
              "4     16 Cyg B b  2018-09-06  Radial Velocity  16 Cyg B   \n",
              "...          ...         ...              ...       ...   \n",
              "4043    K2-296 b     5/23/19          Transit    K2-296   \n",
              "4044    K2-296 c     5/23/19          Transit    K2-296   \n",
              "4045   GJ 1061 b      9/3/19  Radial Velocity   GJ 1061   \n",
              "4046   GJ 1061 c      9/3/19  Radial Velocity   GJ 1061   \n",
              "4047   GJ 1061 d      9/3/19  Radial Velocity   GJ 1061   \n",
              "\n",
              "                S_ALT_NAMES       P_TYPE S_TYPE_TEMP         S_RA_T  \\\n",
              "0      HD 107383, HIP 60202       Jovian           K  12 20 43.0286   \n",
              "1      HD 136726, HIP 74793       Jovian           K  15 17 05.8915   \n",
              "2     HD 221345, HIP 116076       Jovian           G  23 31 17.4215   \n",
              "3      HD 145675, HIP 79248       Jovian           K  16 10 24.3158   \n",
              "4      HD 186427, HIP 96901       Jovian           G  19 41 51.9764   \n",
              "...                     ...          ...         ...            ...   \n",
              "4043                0.00000  Superterran           M  11 58 49.4230   \n",
              "4044                0.00000    Neptunian           M  11 58 49.4230   \n",
              "4045                0.00000       Terran           M  03 35 59.7004   \n",
              "4046                0.00000       Terran           M  03 35 59.7004   \n",
              "4047                0.00000       Terran           M  03 35 59.7004   \n",
              "\n",
              "             S_DEC_T P_TYPE_TEMP S_CONSTELLATION S_CONSTELLATION_ABR  \\\n",
              "0     +17 47 34.3248         Hot  Coma Berenices                 Com   \n",
              "1     +71 49 26.0328         Hot      Ursa Minor                 UMi   \n",
              "2     +39 14 10.3128         Hot       Andromeda                 And   \n",
              "3     +43 49 03.5256        Cold        Hercules                 Her   \n",
              "4     +50 31 03.0900        Warm          Cygnus                 Cyg   \n",
              "...              ...         ...             ...                 ...   \n",
              "4043  -03 23 21.7997        Warm           Virgo                 Vir   \n",
              "4044  -03 23 21.7997         Hot           Virgo                 Vir   \n",
              "4045  -44 30 45.7308         Hot      Horologium                 Hor   \n",
              "4046  -44 30 45.7308        Warm      Horologium                 Hor   \n",
              "4047  -44 30 45.7308        Warm      Horologium                 Hor   \n",
              "\n",
              "     S_CONSTELLATION_ENG  \n",
              "0        Berenice's Hair  \n",
              "1            Little Bear  \n",
              "2              Andromeda  \n",
              "3               Hercules  \n",
              "4                   Swan  \n",
              "...                  ...  \n",
              "4043              Virgin  \n",
              "4044              Virgin  \n",
              "4045      Pendulum Clock  \n",
              "4046      Pendulum Clock  \n",
              "4047      Pendulum Clock  \n",
              "\n",
              "[4048 rows x 13 columns]"
            ],
            "text/html": [
              "\n",
              "  <div id=\"df-c4a41da7-69c9-44ac-b9d2-b23f56c542f0\">\n",
              "    <div class=\"colab-df-container\">\n",
              "      <div>\n",
              "<style scoped>\n",
              "    .dataframe tbody tr th:only-of-type {\n",
              "        vertical-align: middle;\n",
              "    }\n",
              "\n",
              "    .dataframe tbody tr th {\n",
              "        vertical-align: top;\n",
              "    }\n",
              "\n",
              "    .dataframe thead th {\n",
              "        text-align: right;\n",
              "    }\n",
              "</style>\n",
              "<table border=\"1\" class=\"dataframe\">\n",
              "  <thead>\n",
              "    <tr style=\"text-align: right;\">\n",
              "      <th></th>\n",
              "      <th>P_NAME</th>\n",
              "      <th>P_UPDATED</th>\n",
              "      <th>P_DETECTION</th>\n",
              "      <th>S_NAME</th>\n",
              "      <th>S_ALT_NAMES</th>\n",
              "      <th>P_TYPE</th>\n",
              "      <th>S_TYPE_TEMP</th>\n",
              "      <th>S_RA_T</th>\n",
              "      <th>S_DEC_T</th>\n",
              "      <th>P_TYPE_TEMP</th>\n",
              "      <th>S_CONSTELLATION</th>\n",
              "      <th>S_CONSTELLATION_ABR</th>\n",
              "      <th>S_CONSTELLATION_ENG</th>\n",
              "    </tr>\n",
              "  </thead>\n",
              "  <tbody>\n",
              "    <tr>\n",
              "      <th>0</th>\n",
              "      <td>11 Com b</td>\n",
              "      <td>2014-05-14</td>\n",
              "      <td>Radial Velocity</td>\n",
              "      <td>11 Com</td>\n",
              "      <td>HD 107383, HIP 60202</td>\n",
              "      <td>Jovian</td>\n",
              "      <td>K</td>\n",
              "      <td>12 20 43.0286</td>\n",
              "      <td>+17 47 34.3248</td>\n",
              "      <td>Hot</td>\n",
              "      <td>Coma Berenices</td>\n",
              "      <td>Com</td>\n",
              "      <td>Berenice's Hair</td>\n",
              "    </tr>\n",
              "    <tr>\n",
              "      <th>1</th>\n",
              "      <td>11 UMi b</td>\n",
              "      <td>2018-09-06</td>\n",
              "      <td>Radial Velocity</td>\n",
              "      <td>11 UMi</td>\n",
              "      <td>HD 136726, HIP 74793</td>\n",
              "      <td>Jovian</td>\n",
              "      <td>K</td>\n",
              "      <td>15 17 05.8915</td>\n",
              "      <td>+71 49 26.0328</td>\n",
              "      <td>Hot</td>\n",
              "      <td>Ursa Minor</td>\n",
              "      <td>UMi</td>\n",
              "      <td>Little Bear</td>\n",
              "    </tr>\n",
              "    <tr>\n",
              "      <th>2</th>\n",
              "      <td>14 And b</td>\n",
              "      <td>2014-05-14</td>\n",
              "      <td>Radial Velocity</td>\n",
              "      <td>14 And</td>\n",
              "      <td>HD 221345, HIP 116076</td>\n",
              "      <td>Jovian</td>\n",
              "      <td>G</td>\n",
              "      <td>23 31 17.4215</td>\n",
              "      <td>+39 14 10.3128</td>\n",
              "      <td>Hot</td>\n",
              "      <td>Andromeda</td>\n",
              "      <td>And</td>\n",
              "      <td>Andromeda</td>\n",
              "    </tr>\n",
              "    <tr>\n",
              "      <th>3</th>\n",
              "      <td>14 Her b</td>\n",
              "      <td>2018-09-06</td>\n",
              "      <td>Radial Velocity</td>\n",
              "      <td>14 Her</td>\n",
              "      <td>HD 145675, HIP 79248</td>\n",
              "      <td>Jovian</td>\n",
              "      <td>K</td>\n",
              "      <td>16 10 24.3158</td>\n",
              "      <td>+43 49 03.5256</td>\n",
              "      <td>Cold</td>\n",
              "      <td>Hercules</td>\n",
              "      <td>Her</td>\n",
              "      <td>Hercules</td>\n",
              "    </tr>\n",
              "    <tr>\n",
              "      <th>4</th>\n",
              "      <td>16 Cyg B b</td>\n",
              "      <td>2018-09-06</td>\n",
              "      <td>Radial Velocity</td>\n",
              "      <td>16 Cyg B</td>\n",
              "      <td>HD 186427, HIP 96901</td>\n",
              "      <td>Jovian</td>\n",
              "      <td>G</td>\n",
              "      <td>19 41 51.9764</td>\n",
              "      <td>+50 31 03.0900</td>\n",
              "      <td>Warm</td>\n",
              "      <td>Cygnus</td>\n",
              "      <td>Cyg</td>\n",
              "      <td>Swan</td>\n",
              "    </tr>\n",
              "    <tr>\n",
              "      <th>...</th>\n",
              "      <td>...</td>\n",
              "      <td>...</td>\n",
              "      <td>...</td>\n",
              "      <td>...</td>\n",
              "      <td>...</td>\n",
              "      <td>...</td>\n",
              "      <td>...</td>\n",
              "      <td>...</td>\n",
              "      <td>...</td>\n",
              "      <td>...</td>\n",
              "      <td>...</td>\n",
              "      <td>...</td>\n",
              "      <td>...</td>\n",
              "    </tr>\n",
              "    <tr>\n",
              "      <th>4043</th>\n",
              "      <td>K2-296 b</td>\n",
              "      <td>5/23/19</td>\n",
              "      <td>Transit</td>\n",
              "      <td>K2-296</td>\n",
              "      <td>0.00000</td>\n",
              "      <td>Superterran</td>\n",
              "      <td>M</td>\n",
              "      <td>11 58 49.4230</td>\n",
              "      <td>-03 23 21.7997</td>\n",
              "      <td>Warm</td>\n",
              "      <td>Virgo</td>\n",
              "      <td>Vir</td>\n",
              "      <td>Virgin</td>\n",
              "    </tr>\n",
              "    <tr>\n",
              "      <th>4044</th>\n",
              "      <td>K2-296 c</td>\n",
              "      <td>5/23/19</td>\n",
              "      <td>Transit</td>\n",
              "      <td>K2-296</td>\n",
              "      <td>0.00000</td>\n",
              "      <td>Neptunian</td>\n",
              "      <td>M</td>\n",
              "      <td>11 58 49.4230</td>\n",
              "      <td>-03 23 21.7997</td>\n",
              "      <td>Hot</td>\n",
              "      <td>Virgo</td>\n",
              "      <td>Vir</td>\n",
              "      <td>Virgin</td>\n",
              "    </tr>\n",
              "    <tr>\n",
              "      <th>4045</th>\n",
              "      <td>GJ 1061 b</td>\n",
              "      <td>9/3/19</td>\n",
              "      <td>Radial Velocity</td>\n",
              "      <td>GJ 1061</td>\n",
              "      <td>0.00000</td>\n",
              "      <td>Terran</td>\n",
              "      <td>M</td>\n",
              "      <td>03 35 59.7004</td>\n",
              "      <td>-44 30 45.7308</td>\n",
              "      <td>Hot</td>\n",
              "      <td>Horologium</td>\n",
              "      <td>Hor</td>\n",
              "      <td>Pendulum Clock</td>\n",
              "    </tr>\n",
              "    <tr>\n",
              "      <th>4046</th>\n",
              "      <td>GJ 1061 c</td>\n",
              "      <td>9/3/19</td>\n",
              "      <td>Radial Velocity</td>\n",
              "      <td>GJ 1061</td>\n",
              "      <td>0.00000</td>\n",
              "      <td>Terran</td>\n",
              "      <td>M</td>\n",
              "      <td>03 35 59.7004</td>\n",
              "      <td>-44 30 45.7308</td>\n",
              "      <td>Warm</td>\n",
              "      <td>Horologium</td>\n",
              "      <td>Hor</td>\n",
              "      <td>Pendulum Clock</td>\n",
              "    </tr>\n",
              "    <tr>\n",
              "      <th>4047</th>\n",
              "      <td>GJ 1061 d</td>\n",
              "      <td>9/3/19</td>\n",
              "      <td>Radial Velocity</td>\n",
              "      <td>GJ 1061</td>\n",
              "      <td>0.00000</td>\n",
              "      <td>Terran</td>\n",
              "      <td>M</td>\n",
              "      <td>03 35 59.7004</td>\n",
              "      <td>-44 30 45.7308</td>\n",
              "      <td>Warm</td>\n",
              "      <td>Horologium</td>\n",
              "      <td>Hor</td>\n",
              "      <td>Pendulum Clock</td>\n",
              "    </tr>\n",
              "  </tbody>\n",
              "</table>\n",
              "<p>4048 rows × 13 columns</p>\n",
              "</div>\n",
              "      <button class=\"colab-df-convert\" onclick=\"convertToInteractive('df-c4a41da7-69c9-44ac-b9d2-b23f56c542f0')\"\n",
              "              title=\"Convert this dataframe to an interactive table.\"\n",
              "              style=\"display:none;\">\n",
              "        \n",
              "  <svg xmlns=\"http://www.w3.org/2000/svg\" height=\"24px\"viewBox=\"0 0 24 24\"\n",
              "       width=\"24px\">\n",
              "    <path d=\"M0 0h24v24H0V0z\" fill=\"none\"/>\n",
              "    <path d=\"M18.56 5.44l.94 2.06.94-2.06 2.06-.94-2.06-.94-.94-2.06-.94 2.06-2.06.94zm-11 1L8.5 8.5l.94-2.06 2.06-.94-2.06-.94L8.5 2.5l-.94 2.06-2.06.94zm10 10l.94 2.06.94-2.06 2.06-.94-2.06-.94-.94-2.06-.94 2.06-2.06.94z\"/><path d=\"M17.41 7.96l-1.37-1.37c-.4-.4-.92-.59-1.43-.59-.52 0-1.04.2-1.43.59L10.3 9.45l-7.72 7.72c-.78.78-.78 2.05 0 2.83L4 21.41c.39.39.9.59 1.41.59.51 0 1.02-.2 1.41-.59l7.78-7.78 2.81-2.81c.8-.78.8-2.07 0-2.86zM5.41 20L4 18.59l7.72-7.72 1.47 1.35L5.41 20z\"/>\n",
              "  </svg>\n",
              "      </button>\n",
              "      \n",
              "  <style>\n",
              "    .colab-df-container {\n",
              "      display:flex;\n",
              "      flex-wrap:wrap;\n",
              "      gap: 12px;\n",
              "    }\n",
              "\n",
              "    .colab-df-convert {\n",
              "      background-color: #E8F0FE;\n",
              "      border: none;\n",
              "      border-radius: 50%;\n",
              "      cursor: pointer;\n",
              "      display: none;\n",
              "      fill: #1967D2;\n",
              "      height: 32px;\n",
              "      padding: 0 0 0 0;\n",
              "      width: 32px;\n",
              "    }\n",
              "\n",
              "    .colab-df-convert:hover {\n",
              "      background-color: #E2EBFA;\n",
              "      box-shadow: 0px 1px 2px rgba(60, 64, 67, 0.3), 0px 1px 3px 1px rgba(60, 64, 67, 0.15);\n",
              "      fill: #174EA6;\n",
              "    }\n",
              "\n",
              "    [theme=dark] .colab-df-convert {\n",
              "      background-color: #3B4455;\n",
              "      fill: #D2E3FC;\n",
              "    }\n",
              "\n",
              "    [theme=dark] .colab-df-convert:hover {\n",
              "      background-color: #434B5C;\n",
              "      box-shadow: 0px 1px 3px 1px rgba(0, 0, 0, 0.15);\n",
              "      filter: drop-shadow(0px 1px 2px rgba(0, 0, 0, 0.3));\n",
              "      fill: #FFFFFF;\n",
              "    }\n",
              "  </style>\n",
              "\n",
              "      <script>\n",
              "        const buttonEl =\n",
              "          document.querySelector('#df-c4a41da7-69c9-44ac-b9d2-b23f56c542f0 button.colab-df-convert');\n",
              "        buttonEl.style.display =\n",
              "          google.colab.kernel.accessAllowed ? 'block' : 'none';\n",
              "\n",
              "        async function convertToInteractive(key) {\n",
              "          const element = document.querySelector('#df-c4a41da7-69c9-44ac-b9d2-b23f56c542f0');\n",
              "          const dataTable =\n",
              "            await google.colab.kernel.invokeFunction('convertToInteractive',\n",
              "                                                     [key], {});\n",
              "          if (!dataTable) return;\n",
              "\n",
              "          const docLinkHtml = 'Like what you see? Visit the ' +\n",
              "            '<a target=\"_blank\" href=https://colab.research.google.com/notebooks/data_table.ipynb>data table notebook</a>'\n",
              "            + ' to learn more about interactive tables.';\n",
              "          element.innerHTML = '';\n",
              "          dataTable['output_type'] = 'display_data';\n",
              "          await google.colab.output.renderOutput(dataTable, element);\n",
              "          const docLink = document.createElement('div');\n",
              "          docLink.innerHTML = docLinkHtml;\n",
              "          element.appendChild(docLink);\n",
              "        }\n",
              "      </script>\n",
              "    </div>\n",
              "  </div>\n",
              "  "
            ]
          },
          "metadata": {},
          "execution_count": 13
        }
      ]
    },
    {
      "cell_type": "markdown",
      "source": [
        "convert ordinal categorical columns to numeric"
      ],
      "metadata": {
        "id": "43_jKo9kn_zg"
      },
      "id": "43_jKo9kn_zg"
    },
    {
      "cell_type": "code",
      "source": [
        "#convert P_TYPE to ratio of diameter to earth diameter\n",
        "p_type_dict = {'Miniterran':0.25, 'Subterran':0.5, 'Terran':1, 'Neptunian':4, 'Superterran':2, 'Jovian':11}\n",
        "df['P_TYPE'] = df['P_TYPE'].map(p_type_dict)\n",
        "\n",
        "#convert P_TYPE_TEMP to numerical\n",
        "p_temp_dict = {'Cold':-1, 'Warm':0, 'Hot':1}\n",
        "df['P_TYPE_TEMP'] = df['P_TYPE_TEMP'].map(p_temp_dict)"
      ],
      "metadata": {
        "id": "b06OBKr3mU-m"
      },
      "id": "b06OBKr3mU-m",
      "execution_count": 14,
      "outputs": []
    },
    {
      "cell_type": "markdown",
      "source": [
        "drop columns with no/low predictive value"
      ],
      "metadata": {
        "id": "HO8iPTJ4wcnw"
      },
      "id": "HO8iPTJ4wcnw"
    },
    {
      "cell_type": "code",
      "source": [
        "#cloumn is all the same value, it has no predictive value\n",
        "df.loc[df['P_STATUS']!=3]"
      ],
      "metadata": {
        "colab": {
          "base_uri": "https://localhost:8080/",
          "height": 142
        },
        "id": "VT7Dw4Yf8lQ5",
        "outputId": "c02bd306-1e01-452f-eccc-f7085ad5c892"
      },
      "id": "VT7Dw4Yf8lQ5",
      "execution_count": 15,
      "outputs": [
        {
          "output_type": "execute_result",
          "data": {
            "text/plain": [
              "Empty DataFrame\n",
              "Columns: [P_NAME, P_STATUS, P_RADIUS, P_RADIUS_ERROR_MIN, P_RADIUS_ERROR_MAX, P_YEAR, P_UPDATED, P_PERIOD, P_PERIOD_ERROR_MIN, P_PERIOD_ERROR_MAX, P_DETECTION, S_NAME, S_RA, S_DEC, S_MAG, S_DISTANCE, S_DISTANCE_ERROR_MIN, S_DISTANCE_ERROR_MAX, S_METALLICITY, S_METALLICITY_ERROR_MIN, S_METALLICITY_ERROR_MAX, S_MASS, S_MASS_ERROR_MIN, S_MASS_ERROR_MAX, S_RADIUS, S_RADIUS_ERROR_MIN, S_RADIUS_ERROR_MAX, S_TEMPERATURE, S_TEMPERATURE_ERROR_MIN, S_TEMPERATURE_ERROR_MAX, S_LOG_G, S_ALT_NAMES, P_DISTANCE, P_PERIASTRON, P_APASTRON, P_DISTANCE_EFF, P_FLUX, P_FLUX_MIN, P_FLUX_MAX, P_TEMP_EQUIL, P_TEMP_EQUIL_MIN, P_TEMP_EQUIL_MAX, P_TYPE, S_RADIUS_EST, S_TYPE_TEMP, S_RA_H, S_RA_T, S_DEC_T, S_LUMINOSITY, S_HZ_OPT_MIN, S_HZ_OPT_MAX, S_HZ_CON_MIN, S_HZ_CON_MAX, S_HZ_CON0_MIN, S_HZ_CON0_MAX, S_HZ_CON1_MIN, S_HZ_CON1_MAX, S_SNOW_LINE, S_ABIO_ZONE, S_TIDAL_LOCK, P_HABZONE_OPT, P_HABZONE_CON, P_TYPE_TEMP, P_HABITABLE, P_ESI, S_CONSTELLATION, S_CONSTELLATION_ABR, S_CONSTELLATION_ENG, P_RADIUS_EST, P_MASS_EST, P_SEMI_MAJOR_AXIS_EST]\n",
              "Index: []\n",
              "\n",
              "[0 rows x 71 columns]"
            ],
            "text/html": [
              "\n",
              "  <div id=\"df-58b60a13-c604-423a-992b-a21219ebaef2\">\n",
              "    <div class=\"colab-df-container\">\n",
              "      <div>\n",
              "<style scoped>\n",
              "    .dataframe tbody tr th:only-of-type {\n",
              "        vertical-align: middle;\n",
              "    }\n",
              "\n",
              "    .dataframe tbody tr th {\n",
              "        vertical-align: top;\n",
              "    }\n",
              "\n",
              "    .dataframe thead th {\n",
              "        text-align: right;\n",
              "    }\n",
              "</style>\n",
              "<table border=\"1\" class=\"dataframe\">\n",
              "  <thead>\n",
              "    <tr style=\"text-align: right;\">\n",
              "      <th></th>\n",
              "      <th>P_NAME</th>\n",
              "      <th>P_STATUS</th>\n",
              "      <th>P_RADIUS</th>\n",
              "      <th>P_RADIUS_ERROR_MIN</th>\n",
              "      <th>P_RADIUS_ERROR_MAX</th>\n",
              "      <th>P_YEAR</th>\n",
              "      <th>P_UPDATED</th>\n",
              "      <th>P_PERIOD</th>\n",
              "      <th>P_PERIOD_ERROR_MIN</th>\n",
              "      <th>P_PERIOD_ERROR_MAX</th>\n",
              "      <th>...</th>\n",
              "      <th>P_HABZONE_CON</th>\n",
              "      <th>P_TYPE_TEMP</th>\n",
              "      <th>P_HABITABLE</th>\n",
              "      <th>P_ESI</th>\n",
              "      <th>S_CONSTELLATION</th>\n",
              "      <th>S_CONSTELLATION_ABR</th>\n",
              "      <th>S_CONSTELLATION_ENG</th>\n",
              "      <th>P_RADIUS_EST</th>\n",
              "      <th>P_MASS_EST</th>\n",
              "      <th>P_SEMI_MAJOR_AXIS_EST</th>\n",
              "    </tr>\n",
              "  </thead>\n",
              "  <tbody>\n",
              "  </tbody>\n",
              "</table>\n",
              "<p>0 rows × 71 columns</p>\n",
              "</div>\n",
              "      <button class=\"colab-df-convert\" onclick=\"convertToInteractive('df-58b60a13-c604-423a-992b-a21219ebaef2')\"\n",
              "              title=\"Convert this dataframe to an interactive table.\"\n",
              "              style=\"display:none;\">\n",
              "        \n",
              "  <svg xmlns=\"http://www.w3.org/2000/svg\" height=\"24px\"viewBox=\"0 0 24 24\"\n",
              "       width=\"24px\">\n",
              "    <path d=\"M0 0h24v24H0V0z\" fill=\"none\"/>\n",
              "    <path d=\"M18.56 5.44l.94 2.06.94-2.06 2.06-.94-2.06-.94-.94-2.06-.94 2.06-2.06.94zm-11 1L8.5 8.5l.94-2.06 2.06-.94-2.06-.94L8.5 2.5l-.94 2.06-2.06.94zm10 10l.94 2.06.94-2.06 2.06-.94-2.06-.94-.94-2.06-.94 2.06-2.06.94z\"/><path d=\"M17.41 7.96l-1.37-1.37c-.4-.4-.92-.59-1.43-.59-.52 0-1.04.2-1.43.59L10.3 9.45l-7.72 7.72c-.78.78-.78 2.05 0 2.83L4 21.41c.39.39.9.59 1.41.59.51 0 1.02-.2 1.41-.59l7.78-7.78 2.81-2.81c.8-.78.8-2.07 0-2.86zM5.41 20L4 18.59l7.72-7.72 1.47 1.35L5.41 20z\"/>\n",
              "  </svg>\n",
              "      </button>\n",
              "      \n",
              "  <style>\n",
              "    .colab-df-container {\n",
              "      display:flex;\n",
              "      flex-wrap:wrap;\n",
              "      gap: 12px;\n",
              "    }\n",
              "\n",
              "    .colab-df-convert {\n",
              "      background-color: #E8F0FE;\n",
              "      border: none;\n",
              "      border-radius: 50%;\n",
              "      cursor: pointer;\n",
              "      display: none;\n",
              "      fill: #1967D2;\n",
              "      height: 32px;\n",
              "      padding: 0 0 0 0;\n",
              "      width: 32px;\n",
              "    }\n",
              "\n",
              "    .colab-df-convert:hover {\n",
              "      background-color: #E2EBFA;\n",
              "      box-shadow: 0px 1px 2px rgba(60, 64, 67, 0.3), 0px 1px 3px 1px rgba(60, 64, 67, 0.15);\n",
              "      fill: #174EA6;\n",
              "    }\n",
              "\n",
              "    [theme=dark] .colab-df-convert {\n",
              "      background-color: #3B4455;\n",
              "      fill: #D2E3FC;\n",
              "    }\n",
              "\n",
              "    [theme=dark] .colab-df-convert:hover {\n",
              "      background-color: #434B5C;\n",
              "      box-shadow: 0px 1px 3px 1px rgba(0, 0, 0, 0.15);\n",
              "      filter: drop-shadow(0px 1px 2px rgba(0, 0, 0, 0.3));\n",
              "      fill: #FFFFFF;\n",
              "    }\n",
              "  </style>\n",
              "\n",
              "      <script>\n",
              "        const buttonEl =\n",
              "          document.querySelector('#df-58b60a13-c604-423a-992b-a21219ebaef2 button.colab-df-convert');\n",
              "        buttonEl.style.display =\n",
              "          google.colab.kernel.accessAllowed ? 'block' : 'none';\n",
              "\n",
              "        async function convertToInteractive(key) {\n",
              "          const element = document.querySelector('#df-58b60a13-c604-423a-992b-a21219ebaef2');\n",
              "          const dataTable =\n",
              "            await google.colab.kernel.invokeFunction('convertToInteractive',\n",
              "                                                     [key], {});\n",
              "          if (!dataTable) return;\n",
              "\n",
              "          const docLinkHtml = 'Like what you see? Visit the ' +\n",
              "            '<a target=\"_blank\" href=https://colab.research.google.com/notebooks/data_table.ipynb>data table notebook</a>'\n",
              "            + ' to learn more about interactive tables.';\n",
              "          element.innerHTML = '';\n",
              "          dataTable['output_type'] = 'display_data';\n",
              "          await google.colab.output.renderOutput(dataTable, element);\n",
              "          const docLink = document.createElement('div');\n",
              "          docLink.innerHTML = docLinkHtml;\n",
              "          element.appendChild(docLink);\n",
              "        }\n",
              "      </script>\n",
              "    </div>\n",
              "  </div>\n",
              "  "
            ]
          },
          "metadata": {},
          "execution_count": 15
        }
      ]
    },
    {
      "cell_type": "code",
      "source": [
        "#drop more redundant and unimportant columns and star ascension/declination\n",
        "df = df.drop(columns=['P_STATUS','P_NAME', 'P_UPDATED', 'S_NAME', 'S_ALT_NAMES', 'S_RA_T', 'S_DEC_T', 'S_CONSTELLATION_ABR', 'S_CONSTELLATION_ENG'])"
      ],
      "metadata": {
        "id": "ZUCcrrE-xHRA"
      },
      "id": "ZUCcrrE-xHRA",
      "execution_count": 16,
      "outputs": []
    },
    {
      "cell_type": "code",
      "source": [
        "#df.loc[df['P_HABZONE_CON']==1]['P_HABITABLE']"
      ],
      "metadata": {
        "id": "knoGQb1UfJJp"
      },
      "id": "knoGQb1UfJJp",
      "execution_count": 17,
      "outputs": []
    },
    {
      "cell_type": "markdown",
      "source": [
        "convert remaining categorical columns, target encoding todo fix leakage"
      ],
      "metadata": {
        "id": "oVs4x_ex0W9n"
      },
      "id": "oVs4x_ex0W9n"
    },
    {
      "cell_type": "code",
      "source": [
        "#target label encoding for categorical columns, additive smoothing TODO\n",
        "\n",
        "#def target_encoding(df, cols, target):\n"
      ],
      "metadata": {
        "id": "JqRGdzFDUHcm"
      },
      "id": "JqRGdzFDUHcm",
      "execution_count": 18,
      "outputs": []
    },
    {
      "cell_type": "code",
      "source": [
        "!pip install category_encoders"
      ],
      "metadata": {
        "id": "xfpVDWYKQMfY",
        "colab": {
          "base_uri": "https://localhost:8080/"
        },
        "outputId": "d91e221b-16c5-43ed-9a1d-2c34601e1c15"
      },
      "id": "xfpVDWYKQMfY",
      "execution_count": 19,
      "outputs": [
        {
          "output_type": "stream",
          "name": "stdout",
          "text": [
            "Requirement already satisfied: category_encoders in /usr/local/lib/python3.10/dist-packages (2.6.1)\n",
            "Requirement already satisfied: numpy>=1.14.0 in /usr/local/lib/python3.10/dist-packages (from category_encoders) (1.22.4)\n",
            "Requirement already satisfied: scikit-learn>=0.20.0 in /usr/local/lib/python3.10/dist-packages (from category_encoders) (1.2.2)\n",
            "Requirement already satisfied: scipy>=1.0.0 in /usr/local/lib/python3.10/dist-packages (from category_encoders) (1.10.1)\n",
            "Requirement already satisfied: statsmodels>=0.9.0 in /usr/local/lib/python3.10/dist-packages (from category_encoders) (0.13.5)\n",
            "Requirement already satisfied: pandas>=1.0.5 in /usr/local/lib/python3.10/dist-packages (from category_encoders) (1.5.3)\n",
            "Requirement already satisfied: patsy>=0.5.1 in /usr/local/lib/python3.10/dist-packages (from category_encoders) (0.5.3)\n",
            "Requirement already satisfied: python-dateutil>=2.8.1 in /usr/local/lib/python3.10/dist-packages (from pandas>=1.0.5->category_encoders) (2.8.2)\n",
            "Requirement already satisfied: pytz>=2020.1 in /usr/local/lib/python3.10/dist-packages (from pandas>=1.0.5->category_encoders) (2022.7.1)\n",
            "Requirement already satisfied: six in /usr/local/lib/python3.10/dist-packages (from patsy>=0.5.1->category_encoders) (1.16.0)\n",
            "Requirement already satisfied: joblib>=1.1.1 in /usr/local/lib/python3.10/dist-packages (from scikit-learn>=0.20.0->category_encoders) (1.2.0)\n",
            "Requirement already satisfied: threadpoolctl>=2.0.0 in /usr/local/lib/python3.10/dist-packages (from scikit-learn>=0.20.0->category_encoders) (3.1.0)\n",
            "Requirement already satisfied: packaging>=21.3 in /usr/local/lib/python3.10/dist-packages (from statsmodels>=0.9.0->category_encoders) (23.1)\n"
          ]
        }
      ]
    },
    {
      "cell_type": "code",
      "source": [
        "#target encoding, dont want to use test set for encoding\n",
        "import category_encoders as ce\n",
        "from sklearn.model_selection import train_test_split\n",
        "\n",
        "X = df.drop(columns=['P_HABITABLE'], axis=1)\n",
        "y = df['P_HABITABLE']\n",
        "X_train, X_test, y_train, y_test = train_test_split(X, y)"
      ],
      "metadata": {
        "id": "5Xp-TvDnB9TS"
      },
      "id": "5Xp-TvDnB9TS",
      "execution_count": 20,
      "outputs": []
    },
    {
      "cell_type": "code",
      "source": [
        "#remaining categorical cols\n",
        "X_train[X_train.select_dtypes(include=['object']).columns]"
      ],
      "metadata": {
        "colab": {
          "base_uri": "https://localhost:8080/",
          "height": 423
        },
        "id": "rusVn_w3y-XC",
        "outputId": "cbf95c83-c2d2-4c3d-e8a6-6c720b922852"
      },
      "id": "rusVn_w3y-XC",
      "execution_count": 21,
      "outputs": [
        {
          "output_type": "execute_result",
          "data": {
            "text/plain": [
              "          P_DETECTION S_TYPE_TEMP S_CONSTELLATION\n",
              "3764          Imaging           M        Scorpius\n",
              "2176          Transit           K          Cygnus\n",
              "2996          Transit           G          Cygnus\n",
              "690   Radial Velocity           K          Taurus\n",
              "1063          Transit           K           Virgo\n",
              "...               ...         ...             ...\n",
              "3268          Transit           G          Cygnus\n",
              "3895          Transit           F         Phoenix\n",
              "3682     Microlensing           G     Sagittarius\n",
              "324           Transit           F          Puppis\n",
              "1968          Transit           F            Lyra\n",
              "\n",
              "[3036 rows x 3 columns]"
            ],
            "text/html": [
              "\n",
              "  <div id=\"df-ca8ac516-7fe7-45d3-806a-128b117754d7\">\n",
              "    <div class=\"colab-df-container\">\n",
              "      <div>\n",
              "<style scoped>\n",
              "    .dataframe tbody tr th:only-of-type {\n",
              "        vertical-align: middle;\n",
              "    }\n",
              "\n",
              "    .dataframe tbody tr th {\n",
              "        vertical-align: top;\n",
              "    }\n",
              "\n",
              "    .dataframe thead th {\n",
              "        text-align: right;\n",
              "    }\n",
              "</style>\n",
              "<table border=\"1\" class=\"dataframe\">\n",
              "  <thead>\n",
              "    <tr style=\"text-align: right;\">\n",
              "      <th></th>\n",
              "      <th>P_DETECTION</th>\n",
              "      <th>S_TYPE_TEMP</th>\n",
              "      <th>S_CONSTELLATION</th>\n",
              "    </tr>\n",
              "  </thead>\n",
              "  <tbody>\n",
              "    <tr>\n",
              "      <th>3764</th>\n",
              "      <td>Imaging</td>\n",
              "      <td>M</td>\n",
              "      <td>Scorpius</td>\n",
              "    </tr>\n",
              "    <tr>\n",
              "      <th>2176</th>\n",
              "      <td>Transit</td>\n",
              "      <td>K</td>\n",
              "      <td>Cygnus</td>\n",
              "    </tr>\n",
              "    <tr>\n",
              "      <th>2996</th>\n",
              "      <td>Transit</td>\n",
              "      <td>G</td>\n",
              "      <td>Cygnus</td>\n",
              "    </tr>\n",
              "    <tr>\n",
              "      <th>690</th>\n",
              "      <td>Radial Velocity</td>\n",
              "      <td>K</td>\n",
              "      <td>Taurus</td>\n",
              "    </tr>\n",
              "    <tr>\n",
              "      <th>1063</th>\n",
              "      <td>Transit</td>\n",
              "      <td>K</td>\n",
              "      <td>Virgo</td>\n",
              "    </tr>\n",
              "    <tr>\n",
              "      <th>...</th>\n",
              "      <td>...</td>\n",
              "      <td>...</td>\n",
              "      <td>...</td>\n",
              "    </tr>\n",
              "    <tr>\n",
              "      <th>3268</th>\n",
              "      <td>Transit</td>\n",
              "      <td>G</td>\n",
              "      <td>Cygnus</td>\n",
              "    </tr>\n",
              "    <tr>\n",
              "      <th>3895</th>\n",
              "      <td>Transit</td>\n",
              "      <td>F</td>\n",
              "      <td>Phoenix</td>\n",
              "    </tr>\n",
              "    <tr>\n",
              "      <th>3682</th>\n",
              "      <td>Microlensing</td>\n",
              "      <td>G</td>\n",
              "      <td>Sagittarius</td>\n",
              "    </tr>\n",
              "    <tr>\n",
              "      <th>324</th>\n",
              "      <td>Transit</td>\n",
              "      <td>F</td>\n",
              "      <td>Puppis</td>\n",
              "    </tr>\n",
              "    <tr>\n",
              "      <th>1968</th>\n",
              "      <td>Transit</td>\n",
              "      <td>F</td>\n",
              "      <td>Lyra</td>\n",
              "    </tr>\n",
              "  </tbody>\n",
              "</table>\n",
              "<p>3036 rows × 3 columns</p>\n",
              "</div>\n",
              "      <button class=\"colab-df-convert\" onclick=\"convertToInteractive('df-ca8ac516-7fe7-45d3-806a-128b117754d7')\"\n",
              "              title=\"Convert this dataframe to an interactive table.\"\n",
              "              style=\"display:none;\">\n",
              "        \n",
              "  <svg xmlns=\"http://www.w3.org/2000/svg\" height=\"24px\"viewBox=\"0 0 24 24\"\n",
              "       width=\"24px\">\n",
              "    <path d=\"M0 0h24v24H0V0z\" fill=\"none\"/>\n",
              "    <path d=\"M18.56 5.44l.94 2.06.94-2.06 2.06-.94-2.06-.94-.94-2.06-.94 2.06-2.06.94zm-11 1L8.5 8.5l.94-2.06 2.06-.94-2.06-.94L8.5 2.5l-.94 2.06-2.06.94zm10 10l.94 2.06.94-2.06 2.06-.94-2.06-.94-.94-2.06-.94 2.06-2.06.94z\"/><path d=\"M17.41 7.96l-1.37-1.37c-.4-.4-.92-.59-1.43-.59-.52 0-1.04.2-1.43.59L10.3 9.45l-7.72 7.72c-.78.78-.78 2.05 0 2.83L4 21.41c.39.39.9.59 1.41.59.51 0 1.02-.2 1.41-.59l7.78-7.78 2.81-2.81c.8-.78.8-2.07 0-2.86zM5.41 20L4 18.59l7.72-7.72 1.47 1.35L5.41 20z\"/>\n",
              "  </svg>\n",
              "      </button>\n",
              "      \n",
              "  <style>\n",
              "    .colab-df-container {\n",
              "      display:flex;\n",
              "      flex-wrap:wrap;\n",
              "      gap: 12px;\n",
              "    }\n",
              "\n",
              "    .colab-df-convert {\n",
              "      background-color: #E8F0FE;\n",
              "      border: none;\n",
              "      border-radius: 50%;\n",
              "      cursor: pointer;\n",
              "      display: none;\n",
              "      fill: #1967D2;\n",
              "      height: 32px;\n",
              "      padding: 0 0 0 0;\n",
              "      width: 32px;\n",
              "    }\n",
              "\n",
              "    .colab-df-convert:hover {\n",
              "      background-color: #E2EBFA;\n",
              "      box-shadow: 0px 1px 2px rgba(60, 64, 67, 0.3), 0px 1px 3px 1px rgba(60, 64, 67, 0.15);\n",
              "      fill: #174EA6;\n",
              "    }\n",
              "\n",
              "    [theme=dark] .colab-df-convert {\n",
              "      background-color: #3B4455;\n",
              "      fill: #D2E3FC;\n",
              "    }\n",
              "\n",
              "    [theme=dark] .colab-df-convert:hover {\n",
              "      background-color: #434B5C;\n",
              "      box-shadow: 0px 1px 3px 1px rgba(0, 0, 0, 0.15);\n",
              "      filter: drop-shadow(0px 1px 2px rgba(0, 0, 0, 0.3));\n",
              "      fill: #FFFFFF;\n",
              "    }\n",
              "  </style>\n",
              "\n",
              "      <script>\n",
              "        const buttonEl =\n",
              "          document.querySelector('#df-ca8ac516-7fe7-45d3-806a-128b117754d7 button.colab-df-convert');\n",
              "        buttonEl.style.display =\n",
              "          google.colab.kernel.accessAllowed ? 'block' : 'none';\n",
              "\n",
              "        async function convertToInteractive(key) {\n",
              "          const element = document.querySelector('#df-ca8ac516-7fe7-45d3-806a-128b117754d7');\n",
              "          const dataTable =\n",
              "            await google.colab.kernel.invokeFunction('convertToInteractive',\n",
              "                                                     [key], {});\n",
              "          if (!dataTable) return;\n",
              "\n",
              "          const docLinkHtml = 'Like what you see? Visit the ' +\n",
              "            '<a target=\"_blank\" href=https://colab.research.google.com/notebooks/data_table.ipynb>data table notebook</a>'\n",
              "            + ' to learn more about interactive tables.';\n",
              "          element.innerHTML = '';\n",
              "          dataTable['output_type'] = 'display_data';\n",
              "          await google.colab.output.renderOutput(dataTable, element);\n",
              "          const docLink = document.createElement('div');\n",
              "          docLink.innerHTML = docLinkHtml;\n",
              "          element.appendChild(docLink);\n",
              "        }\n",
              "      </script>\n",
              "    </div>\n",
              "  </div>\n",
              "  "
            ]
          },
          "metadata": {},
          "execution_count": 21
        }
      ]
    },
    {
      "cell_type": "code",
      "source": [
        "#example\n",
        "X_train['P_DETECTION'].value_counts()"
      ],
      "metadata": {
        "colab": {
          "base_uri": "https://localhost:8080/"
        },
        "id": "TGjmlHz80SrT",
        "outputId": "f35eb88e-be10-4a7f-b527-6ceb19d447d3"
      },
      "id": "TGjmlHz80SrT",
      "execution_count": 22,
      "outputs": [
        {
          "output_type": "execute_result",
          "data": {
            "text/plain": [
              "Transit                          2326\n",
              "Radial Velocity                   586\n",
              "Microlensing                       57\n",
              "Imaging                            36\n",
              "Transit Timing Variations          14\n",
              "Eclipse Timing Variations           7\n",
              "Orbital Brightness Modulation       6\n",
              "Pulsar Timing                       2\n",
              "Astrometry                          1\n",
              "Pulsation Timing Variations         1\n",
              "Name: P_DETECTION, dtype: int64"
            ]
          },
          "metadata": {},
          "execution_count": 22
        }
      ]
    },
    {
      "cell_type": "code",
      "source": [
        "#example showing where P_HABITABLE with 0th value should get mapped\n",
        "df_ex = X_train.copy()\n",
        "df_ex['P_HABITABLE'] = y_train\n",
        "\n",
        "values = df_ex['P_DETECTION'].unique()\n",
        "df_ex.loc[df_ex['P_DETECTION']==values[0]]['P_HABITABLE'].mean()"
      ],
      "metadata": {
        "colab": {
          "base_uri": "https://localhost:8080/"
        },
        "id": "q5PKjTiXsdkh",
        "outputId": "92927728-3698-43af-eb5c-f219a2d5568b"
      },
      "id": "q5PKjTiXsdkh",
      "execution_count": 23,
      "outputs": [
        {
          "output_type": "execute_result",
          "data": {
            "text/plain": [
              "0.0"
            ]
          },
          "metadata": {},
          "execution_count": 23
        }
      ]
    },
    {
      "cell_type": "code",
      "source": [
        "te = ce.TargetEncoder()\n",
        "te.fit(X_train, y_train)"
      ],
      "metadata": {
        "id": "-yOZcMLYM9Oh",
        "colab": {
          "base_uri": "https://localhost:8080/",
          "height": 74
        },
        "outputId": "4349bb14-92d1-41c6-a55c-dbe2feb8a55c"
      },
      "id": "-yOZcMLYM9Oh",
      "execution_count": 24,
      "outputs": [
        {
          "output_type": "execute_result",
          "data": {
            "text/plain": [
              "TargetEncoder(cols=['P_DETECTION', 'S_TYPE_TEMP', 'S_CONSTELLATION'])"
            ],
            "text/html": [
              "<style>#sk-container-id-1 {color: black;background-color: white;}#sk-container-id-1 pre{padding: 0;}#sk-container-id-1 div.sk-toggleable {background-color: white;}#sk-container-id-1 label.sk-toggleable__label {cursor: pointer;display: block;width: 100%;margin-bottom: 0;padding: 0.3em;box-sizing: border-box;text-align: center;}#sk-container-id-1 label.sk-toggleable__label-arrow:before {content: \"▸\";float: left;margin-right: 0.25em;color: #696969;}#sk-container-id-1 label.sk-toggleable__label-arrow:hover:before {color: black;}#sk-container-id-1 div.sk-estimator:hover label.sk-toggleable__label-arrow:before {color: black;}#sk-container-id-1 div.sk-toggleable__content {max-height: 0;max-width: 0;overflow: hidden;text-align: left;background-color: #f0f8ff;}#sk-container-id-1 div.sk-toggleable__content pre {margin: 0.2em;color: black;border-radius: 0.25em;background-color: #f0f8ff;}#sk-container-id-1 input.sk-toggleable__control:checked~div.sk-toggleable__content {max-height: 200px;max-width: 100%;overflow: auto;}#sk-container-id-1 input.sk-toggleable__control:checked~label.sk-toggleable__label-arrow:before {content: \"▾\";}#sk-container-id-1 div.sk-estimator input.sk-toggleable__control:checked~label.sk-toggleable__label {background-color: #d4ebff;}#sk-container-id-1 div.sk-label input.sk-toggleable__control:checked~label.sk-toggleable__label {background-color: #d4ebff;}#sk-container-id-1 input.sk-hidden--visually {border: 0;clip: rect(1px 1px 1px 1px);clip: rect(1px, 1px, 1px, 1px);height: 1px;margin: -1px;overflow: hidden;padding: 0;position: absolute;width: 1px;}#sk-container-id-1 div.sk-estimator {font-family: monospace;background-color: #f0f8ff;border: 1px dotted black;border-radius: 0.25em;box-sizing: border-box;margin-bottom: 0.5em;}#sk-container-id-1 div.sk-estimator:hover {background-color: #d4ebff;}#sk-container-id-1 div.sk-parallel-item::after {content: \"\";width: 100%;border-bottom: 1px solid gray;flex-grow: 1;}#sk-container-id-1 div.sk-label:hover label.sk-toggleable__label {background-color: #d4ebff;}#sk-container-id-1 div.sk-serial::before {content: \"\";position: absolute;border-left: 1px solid gray;box-sizing: border-box;top: 0;bottom: 0;left: 50%;z-index: 0;}#sk-container-id-1 div.sk-serial {display: flex;flex-direction: column;align-items: center;background-color: white;padding-right: 0.2em;padding-left: 0.2em;position: relative;}#sk-container-id-1 div.sk-item {position: relative;z-index: 1;}#sk-container-id-1 div.sk-parallel {display: flex;align-items: stretch;justify-content: center;background-color: white;position: relative;}#sk-container-id-1 div.sk-item::before, #sk-container-id-1 div.sk-parallel-item::before {content: \"\";position: absolute;border-left: 1px solid gray;box-sizing: border-box;top: 0;bottom: 0;left: 50%;z-index: -1;}#sk-container-id-1 div.sk-parallel-item {display: flex;flex-direction: column;z-index: 1;position: relative;background-color: white;}#sk-container-id-1 div.sk-parallel-item:first-child::after {align-self: flex-end;width: 50%;}#sk-container-id-1 div.sk-parallel-item:last-child::after {align-self: flex-start;width: 50%;}#sk-container-id-1 div.sk-parallel-item:only-child::after {width: 0;}#sk-container-id-1 div.sk-dashed-wrapped {border: 1px dashed gray;margin: 0 0.4em 0.5em 0.4em;box-sizing: border-box;padding-bottom: 0.4em;background-color: white;}#sk-container-id-1 div.sk-label label {font-family: monospace;font-weight: bold;display: inline-block;line-height: 1.2em;}#sk-container-id-1 div.sk-label-container {text-align: center;}#sk-container-id-1 div.sk-container {/* jupyter's `normalize.less` sets `[hidden] { display: none; }` but bootstrap.min.css set `[hidden] { display: none !important; }` so we also need the `!important` here to be able to override the default hidden behavior on the sphinx rendered scikit-learn.org. See: https://github.com/scikit-learn/scikit-learn/issues/21755 */display: inline-block !important;position: relative;}#sk-container-id-1 div.sk-text-repr-fallback {display: none;}</style><div id=\"sk-container-id-1\" class=\"sk-top-container\"><div class=\"sk-text-repr-fallback\"><pre>TargetEncoder(cols=[&#x27;P_DETECTION&#x27;, &#x27;S_TYPE_TEMP&#x27;, &#x27;S_CONSTELLATION&#x27;])</pre><b>In a Jupyter environment, please rerun this cell to show the HTML representation or trust the notebook. <br />On GitHub, the HTML representation is unable to render, please try loading this page with nbviewer.org.</b></div><div class=\"sk-container\" hidden><div class=\"sk-item\"><div class=\"sk-estimator sk-toggleable\"><input class=\"sk-toggleable__control sk-hidden--visually\" id=\"sk-estimator-id-1\" type=\"checkbox\" checked><label for=\"sk-estimator-id-1\" class=\"sk-toggleable__label sk-toggleable__label-arrow\">TargetEncoder</label><div class=\"sk-toggleable__content\"><pre>TargetEncoder(cols=[&#x27;P_DETECTION&#x27;, &#x27;S_TYPE_TEMP&#x27;, &#x27;S_CONSTELLATION&#x27;])</pre></div></div></div></div></div>"
            ]
          },
          "metadata": {},
          "execution_count": 24
        }
      ]
    },
    {
      "cell_type": "code",
      "source": [
        "X_train = te.transform(X_train)\n",
        "X_test = te.transform(X_test)"
      ],
      "metadata": {
        "id": "KEYn0TPH0sSN"
      },
      "id": "KEYn0TPH0sSN",
      "execution_count": 25,
      "outputs": []
    },
    {
      "cell_type": "code",
      "source": [
        "X_train[['P_DETECTION', 'S_TYPE_TEMP', 'S_CONSTELLATION']]"
      ],
      "metadata": {
        "colab": {
          "base_uri": "https://localhost:8080/",
          "height": 423
        },
        "id": "E7mkPr9ZBBQG",
        "outputId": "4f2eab1e-ca1d-47fd-b359-ff47fcecfda1"
      },
      "id": "E7mkPr9ZBBQG",
      "execution_count": 26,
      "outputs": [
        {
          "output_type": "execute_result",
          "data": {
            "text/plain": [
              "      P_DETECTION  S_TYPE_TEMP  S_CONSTELLATION\n",
              "3764     0.003818     0.153527         0.024729\n",
              "2176     0.022356     0.028061         0.019646\n",
              "2996     0.022356     0.005559         0.019646\n",
              "690      0.029010     0.028061         0.037845\n",
              "1063     0.022356     0.028061         0.000001\n",
              "...           ...          ...              ...\n",
              "3268     0.022356     0.005559         0.019646\n",
              "3895     0.022356     0.003676         0.016158\n",
              "3682     0.000548     0.005559         0.000304\n",
              "324      0.022356     0.003676         0.014147\n",
              "1968     0.022356     0.003676         0.024427\n",
              "\n",
              "[3036 rows x 3 columns]"
            ],
            "text/html": [
              "\n",
              "  <div id=\"df-dd6dfd2a-d753-4dfa-bf90-54a8b8f4e9b7\">\n",
              "    <div class=\"colab-df-container\">\n",
              "      <div>\n",
              "<style scoped>\n",
              "    .dataframe tbody tr th:only-of-type {\n",
              "        vertical-align: middle;\n",
              "    }\n",
              "\n",
              "    .dataframe tbody tr th {\n",
              "        vertical-align: top;\n",
              "    }\n",
              "\n",
              "    .dataframe thead th {\n",
              "        text-align: right;\n",
              "    }\n",
              "</style>\n",
              "<table border=\"1\" class=\"dataframe\">\n",
              "  <thead>\n",
              "    <tr style=\"text-align: right;\">\n",
              "      <th></th>\n",
              "      <th>P_DETECTION</th>\n",
              "      <th>S_TYPE_TEMP</th>\n",
              "      <th>S_CONSTELLATION</th>\n",
              "    </tr>\n",
              "  </thead>\n",
              "  <tbody>\n",
              "    <tr>\n",
              "      <th>3764</th>\n",
              "      <td>0.003818</td>\n",
              "      <td>0.153527</td>\n",
              "      <td>0.024729</td>\n",
              "    </tr>\n",
              "    <tr>\n",
              "      <th>2176</th>\n",
              "      <td>0.022356</td>\n",
              "      <td>0.028061</td>\n",
              "      <td>0.019646</td>\n",
              "    </tr>\n",
              "    <tr>\n",
              "      <th>2996</th>\n",
              "      <td>0.022356</td>\n",
              "      <td>0.005559</td>\n",
              "      <td>0.019646</td>\n",
              "    </tr>\n",
              "    <tr>\n",
              "      <th>690</th>\n",
              "      <td>0.029010</td>\n",
              "      <td>0.028061</td>\n",
              "      <td>0.037845</td>\n",
              "    </tr>\n",
              "    <tr>\n",
              "      <th>1063</th>\n",
              "      <td>0.022356</td>\n",
              "      <td>0.028061</td>\n",
              "      <td>0.000001</td>\n",
              "    </tr>\n",
              "    <tr>\n",
              "      <th>...</th>\n",
              "      <td>...</td>\n",
              "      <td>...</td>\n",
              "      <td>...</td>\n",
              "    </tr>\n",
              "    <tr>\n",
              "      <th>3268</th>\n",
              "      <td>0.022356</td>\n",
              "      <td>0.005559</td>\n",
              "      <td>0.019646</td>\n",
              "    </tr>\n",
              "    <tr>\n",
              "      <th>3895</th>\n",
              "      <td>0.022356</td>\n",
              "      <td>0.003676</td>\n",
              "      <td>0.016158</td>\n",
              "    </tr>\n",
              "    <tr>\n",
              "      <th>3682</th>\n",
              "      <td>0.000548</td>\n",
              "      <td>0.005559</td>\n",
              "      <td>0.000304</td>\n",
              "    </tr>\n",
              "    <tr>\n",
              "      <th>324</th>\n",
              "      <td>0.022356</td>\n",
              "      <td>0.003676</td>\n",
              "      <td>0.014147</td>\n",
              "    </tr>\n",
              "    <tr>\n",
              "      <th>1968</th>\n",
              "      <td>0.022356</td>\n",
              "      <td>0.003676</td>\n",
              "      <td>0.024427</td>\n",
              "    </tr>\n",
              "  </tbody>\n",
              "</table>\n",
              "<p>3036 rows × 3 columns</p>\n",
              "</div>\n",
              "      <button class=\"colab-df-convert\" onclick=\"convertToInteractive('df-dd6dfd2a-d753-4dfa-bf90-54a8b8f4e9b7')\"\n",
              "              title=\"Convert this dataframe to an interactive table.\"\n",
              "              style=\"display:none;\">\n",
              "        \n",
              "  <svg xmlns=\"http://www.w3.org/2000/svg\" height=\"24px\"viewBox=\"0 0 24 24\"\n",
              "       width=\"24px\">\n",
              "    <path d=\"M0 0h24v24H0V0z\" fill=\"none\"/>\n",
              "    <path d=\"M18.56 5.44l.94 2.06.94-2.06 2.06-.94-2.06-.94-.94-2.06-.94 2.06-2.06.94zm-11 1L8.5 8.5l.94-2.06 2.06-.94-2.06-.94L8.5 2.5l-.94 2.06-2.06.94zm10 10l.94 2.06.94-2.06 2.06-.94-2.06-.94-.94-2.06-.94 2.06-2.06.94z\"/><path d=\"M17.41 7.96l-1.37-1.37c-.4-.4-.92-.59-1.43-.59-.52 0-1.04.2-1.43.59L10.3 9.45l-7.72 7.72c-.78.78-.78 2.05 0 2.83L4 21.41c.39.39.9.59 1.41.59.51 0 1.02-.2 1.41-.59l7.78-7.78 2.81-2.81c.8-.78.8-2.07 0-2.86zM5.41 20L4 18.59l7.72-7.72 1.47 1.35L5.41 20z\"/>\n",
              "  </svg>\n",
              "      </button>\n",
              "      \n",
              "  <style>\n",
              "    .colab-df-container {\n",
              "      display:flex;\n",
              "      flex-wrap:wrap;\n",
              "      gap: 12px;\n",
              "    }\n",
              "\n",
              "    .colab-df-convert {\n",
              "      background-color: #E8F0FE;\n",
              "      border: none;\n",
              "      border-radius: 50%;\n",
              "      cursor: pointer;\n",
              "      display: none;\n",
              "      fill: #1967D2;\n",
              "      height: 32px;\n",
              "      padding: 0 0 0 0;\n",
              "      width: 32px;\n",
              "    }\n",
              "\n",
              "    .colab-df-convert:hover {\n",
              "      background-color: #E2EBFA;\n",
              "      box-shadow: 0px 1px 2px rgba(60, 64, 67, 0.3), 0px 1px 3px 1px rgba(60, 64, 67, 0.15);\n",
              "      fill: #174EA6;\n",
              "    }\n",
              "\n",
              "    [theme=dark] .colab-df-convert {\n",
              "      background-color: #3B4455;\n",
              "      fill: #D2E3FC;\n",
              "    }\n",
              "\n",
              "    [theme=dark] .colab-df-convert:hover {\n",
              "      background-color: #434B5C;\n",
              "      box-shadow: 0px 1px 3px 1px rgba(0, 0, 0, 0.15);\n",
              "      filter: drop-shadow(0px 1px 2px rgba(0, 0, 0, 0.3));\n",
              "      fill: #FFFFFF;\n",
              "    }\n",
              "  </style>\n",
              "\n",
              "      <script>\n",
              "        const buttonEl =\n",
              "          document.querySelector('#df-dd6dfd2a-d753-4dfa-bf90-54a8b8f4e9b7 button.colab-df-convert');\n",
              "        buttonEl.style.display =\n",
              "          google.colab.kernel.accessAllowed ? 'block' : 'none';\n",
              "\n",
              "        async function convertToInteractive(key) {\n",
              "          const element = document.querySelector('#df-dd6dfd2a-d753-4dfa-bf90-54a8b8f4e9b7');\n",
              "          const dataTable =\n",
              "            await google.colab.kernel.invokeFunction('convertToInteractive',\n",
              "                                                     [key], {});\n",
              "          if (!dataTable) return;\n",
              "\n",
              "          const docLinkHtml = 'Like what you see? Visit the ' +\n",
              "            '<a target=\"_blank\" href=https://colab.research.google.com/notebooks/data_table.ipynb>data table notebook</a>'\n",
              "            + ' to learn more about interactive tables.';\n",
              "          element.innerHTML = '';\n",
              "          dataTable['output_type'] = 'display_data';\n",
              "          await google.colab.output.renderOutput(dataTable, element);\n",
              "          const docLink = document.createElement('div');\n",
              "          docLink.innerHTML = docLinkHtml;\n",
              "          element.appendChild(docLink);\n",
              "        }\n",
              "      </script>\n",
              "    </div>\n",
              "  </div>\n",
              "  "
            ]
          },
          "metadata": {},
          "execution_count": 26
        }
      ]
    },
    {
      "cell_type": "markdown",
      "source": [
        "impute missing values for numerical columns"
      ],
      "metadata": {
        "id": "FCj2vblZRNXk"
      },
      "id": "FCj2vblZRNXk"
    },
    {
      "cell_type": "code",
      "source": [
        "from sklearn.impute import KNNImputer\n",
        "\n",
        "imputer = KNNImputer(n_neighbors=2, missing_values=np.nan)\n",
        "X_train = pd.DataFrame(imputer.fit_transform(X_train, y_train),\n",
        "                  columns = imputer.get_feature_names_out())\n",
        "X_test = pd.DataFrame(imputer.transform(X_test),\n",
        "                      columns = imputer.get_feature_names_out())"
      ],
      "metadata": {
        "id": "EbuQFxjrRIxS"
      },
      "id": "EbuQFxjrRIxS",
      "execution_count": 27,
      "outputs": []
    },
    {
      "cell_type": "code",
      "source": [
        "X_train.isna().sum().any()"
      ],
      "metadata": {
        "colab": {
          "base_uri": "https://localhost:8080/"
        },
        "id": "ODMcksuf0lfn",
        "outputId": "88527876-58b1-47e9-cb82-aa68dec1f84d"
      },
      "id": "ODMcksuf0lfn",
      "execution_count": 28,
      "outputs": [
        {
          "output_type": "execute_result",
          "data": {
            "text/plain": [
              "False"
            ]
          },
          "metadata": {},
          "execution_count": 28
        }
      ]
    },
    {
      "cell_type": "code",
      "source": [
        "X_test.isna().sum().any()"
      ],
      "metadata": {
        "id": "bI64OS5Rzsbn",
        "colab": {
          "base_uri": "https://localhost:8080/"
        },
        "outputId": "9f26ce07-9fd1-4524-ae4f-11c3f6d398a4"
      },
      "id": "bI64OS5Rzsbn",
      "execution_count": 29,
      "outputs": [
        {
          "output_type": "execute_result",
          "data": {
            "text/plain": [
              "False"
            ]
          },
          "metadata": {},
          "execution_count": 29
        }
      ]
    },
    {
      "cell_type": "markdown",
      "source": [
        "#Feature Selection"
      ],
      "metadata": {
        "id": "DJZlv62D-nln"
      },
      "id": "DJZlv62D-nln"
    },
    {
      "cell_type": "markdown",
      "source": [
        "correlation plot"
      ],
      "metadata": {
        "id": "Oe97HI-yvlVH"
      },
      "id": "Oe97HI-yvlVH"
    },
    {
      "cell_type": "code",
      "source": [
        "plt.figure(figsize=(12, 12))\n",
        "X_train_corr = X_train.corr()\n",
        "sns.heatmap(X_train_corr, annot=False)"
      ],
      "metadata": {
        "colab": {
          "base_uri": "https://localhost:8080/",
          "height": 1000
        },
        "id": "uBuV1KP8vttX",
        "outputId": "26785745-80d9-46cc-87f9-c96084eb5abc"
      },
      "id": "uBuV1KP8vttX",
      "execution_count": 30,
      "outputs": [
        {
          "output_type": "execute_result",
          "data": {
            "text/plain": [
              "<Axes: >"
            ]
          },
          "metadata": {},
          "execution_count": 30
        },
        {
          "output_type": "display_data",
          "data": {
            "text/plain": [
              "<Figure size 1200x1200 with 2 Axes>"
            ],
            "image/png": "[encoded data removed]"
          },
          "metadata": {}
        }
      ]
    },
    {
      "cell_type": "code",
      "source": [
        "X_train.corr().columns"
      ],
      "metadata": {
        "id": "cTcldreEDoM9",
        "colab": {
          "base_uri": "https://localhost:8080/"
        },
        "outputId": "20634965-faea-41c1-d86e-d1bfd7fea992"
      },
      "id": "cTcldreEDoM9",
      "execution_count": 31,
      "outputs": [
        {
          "output_type": "execute_result",
          "data": {
            "text/plain": [
              "Index(['P_RADIUS', 'P_RADIUS_ERROR_MIN', 'P_RADIUS_ERROR_MAX', 'P_YEAR',\n",
              "       'P_PERIOD', 'P_PERIOD_ERROR_MIN', 'P_PERIOD_ERROR_MAX', 'P_DETECTION',\n",
              "       'S_RA', 'S_DEC', 'S_MAG', 'S_DISTANCE', 'S_DISTANCE_ERROR_MIN',\n",
              "       'S_DISTANCE_ERROR_MAX', 'S_METALLICITY', 'S_METALLICITY_ERROR_MIN',\n",
              "       'S_METALLICITY_ERROR_MAX', 'S_MASS', 'S_MASS_ERROR_MIN',\n",
              "       'S_MASS_ERROR_MAX', 'S_RADIUS', 'S_RADIUS_ERROR_MIN',\n",
              "       'S_RADIUS_ERROR_MAX', 'S_TEMPERATURE', 'S_TEMPERATURE_ERROR_MIN',\n",
              "       'S_TEMPERATURE_ERROR_MAX', 'S_LOG_G', 'P_DISTANCE', 'P_PERIASTRON',\n",
              "       'P_APASTRON', 'P_DISTANCE_EFF', 'P_FLUX', 'P_FLUX_MIN', 'P_FLUX_MAX',\n",
              "       'P_TEMP_EQUIL', 'P_TEMP_EQUIL_MIN', 'P_TEMP_EQUIL_MAX', 'P_TYPE',\n",
              "       'S_RADIUS_EST', 'S_TYPE_TEMP', 'S_RA_H', 'S_LUMINOSITY', 'S_HZ_OPT_MIN',\n",
              "       'S_HZ_OPT_MAX', 'S_HZ_CON_MIN', 'S_HZ_CON_MAX', 'S_HZ_CON0_MIN',\n",
              "       'S_HZ_CON0_MAX', 'S_HZ_CON1_MIN', 'S_HZ_CON1_MAX', 'S_SNOW_LINE',\n",
              "       'S_ABIO_ZONE', 'S_TIDAL_LOCK', 'P_HABZONE_OPT', 'P_HABZONE_CON',\n",
              "       'P_TYPE_TEMP', 'P_ESI', 'S_CONSTELLATION', 'P_RADIUS_EST', 'P_MASS_EST',\n",
              "       'P_SEMI_MAJOR_AXIS_EST'],\n",
              "      dtype='object')"
            ]
          },
          "metadata": {},
          "execution_count": 31
        }
      ]
    },
    {
      "cell_type": "code",
      "source": [
        "def drop_correlated_cols(X_train, X_test):\n",
        "\n",
        "  upper = X_train.corr().where(np.triu(np.ones(X_train.corr().shape), k=1).astype(bool))\n",
        "\n",
        "  to_drop = [column for column in upper.columns if any(upper[column] > 0.95)]\n",
        "  X_train.drop(to_drop, axis=1, inplace=True)\n",
        "  X_test.drop(to_drop, axis=1, inplace=True)\n",
        "\n",
        "  return\n",
        "\n",
        "  drop_correlated_cols(X_train, X_test)"
      ],
      "metadata": {
        "id": "SimWVvystysj"
      },
      "id": "SimWVvystysj",
      "execution_count": 32,
      "outputs": []
    },
    {
      "cell_type": "markdown",
      "source": [
        "#Modeling"
      ],
      "metadata": {
        "id": "aMUJKO9xaPNm"
      },
      "id": "aMUJKO9xaPNm"
    },
    {
      "cell_type": "code",
      "source": [
        "from sklearn.ensemble import RandomForestClassifier, AdaBoostClassifier\n",
        "from sklearn.model_selection import KFold, cross_val_score, GridSearchCV\n",
        "from sklearn.pipeline import Pipeline\n",
        "\n",
        "from sklearn.linear_model import LogisticRegression\n",
        "from sklearn.neural_network import MLPClassifier\n",
        "from sklearn.neighbors import KNeighborsClassifier\n",
        "from sklearn.svm import SVC\n",
        "from sklearn.gaussian_process.kernels import RBF\n",
        "from sklearn.preprocessing import StandardScaler\n",
        "\n",
        "import xgboost as xgb\n",
        "import lightgbm as lgbm\n",
        "\n",
        "from sklearn.metrics import classification_report, roc_auc_score"
      ],
      "metadata": {
        "id": "Mu2GrMEQaSaV"
      },
      "id": "Mu2GrMEQaSaV",
      "execution_count": 33,
      "outputs": []
    },
    {
      "cell_type": "markdown",
      "source": [
        "function that can oversample train set"
      ],
      "metadata": {
        "id": "-0lzM1Iv3tnf"
      },
      "id": "-0lzM1Iv3tnf"
    },
    {
      "cell_type": "code",
      "source": [
        "from sklearn.utils import resample\n",
        "\n",
        "def oversample(X_train, y_train):\n",
        "\n",
        "  train = X_train\n",
        "  train['P_HABITABLE'] = y_train\n",
        "\n",
        "  no = train[train.P_HABITABLE == 0]\n",
        "  yes_cons = train[train.P_HABITABLE == 1]\n",
        "  yes_opti = train[train.P_HABITABLE == 2]\n",
        "\n",
        "  yes_cons_oversampled = resample(yes_cons, replace=True, n_samples=len(no))\n",
        "  oversampled_df = pd.concat([no, yes_cons_oversampled])\n",
        "  yes_opti_oversampled = resample(yes_opti, replace=True, n_samples=len(no))\n",
        "  oversampled_df = pd.concat([oversampled_df, yes_opti_oversampled])\n",
        "\n",
        "  y_train = oversampled_df['P_HABITABLE']\n",
        "  X_train = oversampled_df.drop(columns=['P_HABITABLE'], axis=1)\n",
        "\n",
        "  return X_train, y_train\n",
        "\n",
        "#performs worse for some reason?\n",
        "#X_train, y_train = oversample(X_train, y_train)\n",
        "#y_train.value_counts(sort=False).sort_index().plot(kind='bar', title='Target Counts')"
      ],
      "metadata": {
        "id": "SDJtPo7Tjzqm"
      },
      "id": "SDJtPo7Tjzqm",
      "execution_count": 34,
      "outputs": []
    },
    {
      "cell_type": "markdown",
      "source": [
        "models to use"
      ],
      "metadata": {
        "id": "zBKmBWlk4E9K"
      },
      "id": "zBKmBWlk4E9K"
    },
    {
      "cell_type": "code",
      "source": [
        "names = [\n",
        "  #\"Logistic Regression\"\n",
        "  \"KNearest Neighbors\",\n",
        "  \"Linear SVM\",\n",
        "  #\"RBF SVM\",\n",
        "  \"Random Forest\",\n",
        "  \"Neural Net\",\n",
        "  \"AdaBoost\",\n",
        "  \"XGBoost\",\n",
        "  \"LightGBM\"\n",
        "]\n",
        "\n",
        "classifiers = [\n",
        "  #LogisticRegression(),\n",
        "  KNeighborsClassifier(2),\n",
        "  SVC(kernel=\"linear\",\n",
        "      C=0.025),\n",
        "  #SVC(gamma=2,\n",
        "  #    C=1),\n",
        "  RandomForestClassifier(max_depth=8,\n",
        "                         n_estimators=100,\n",
        "                         min_samples_leaf=1,\n",
        "                         max_features='sqrt'),\n",
        "  MLPClassifier(alpha=1,\n",
        "                max_iter=1000),\n",
        "  AdaBoostClassifier(),\n",
        "  xgb.XGBClassifier(colsample_bytree=0.6,\n",
        "                    gamma=0.01, #min loss required to make further partition on leaf node of tree\n",
        "                    learning_rate=0.05,\n",
        "                    max_depth=3,\n",
        "                    min_child_weight=1.5,\n",
        "                    n_estimators=1000,\n",
        "                    reg_alpha=0.4, #L1 Regularization\n",
        "                    reg_lambda=0.8, #L2 Regularization\n",
        "                    subsample=0.8, #sample ratio\n",
        "                    nthread=-1),\n",
        "  lgbm.LGBMClassifier(objective='classification',\n",
        "                     num_leaves=5,\n",
        "                     learning_rate=0.05,\n",
        "                     n_estimators=1000,\n",
        "                     max_bin=55,\n",
        "                     bagging_fraction=0.8,\n",
        "                     bagging_freq=5,\n",
        "                     feature_fraction=0.2319,\n",
        "                     min_data_in_leaf=1,\n",
        "                     min_sum_hessian_in_leaf=11)\n",
        "]"
      ],
      "metadata": {
        "id": "YjWW7fTMmkus"
      },
      "id": "YjWW7fTMmkus",
      "execution_count": 35,
      "outputs": []
    },
    {
      "cell_type": "markdown",
      "source": [
        "#Predictions and Evaluation"
      ],
      "metadata": {
        "id": "_2fLf3X2sHWb"
      },
      "id": "_2fLf3X2sHWb"
    },
    {
      "cell_type": "code",
      "source": [
        "for name, clf in zip(names, classifiers):\n",
        "\n",
        "  clf = Pipeline([('scaler', StandardScaler()), (name, clf)])\n",
        "  clf.fit(X_train, y_train)\n",
        "\n",
        "  target_names = ['Inhabitable', 'Conservatively Habitable', 'Optimistically Habitable']\n",
        "\n",
        "  y_pred = clf.predict(X_test)\n",
        "  print('Model: ', name)\n",
        "  print(classification_report(y_test, y_pred, target_names=target_names))\n",
        "\n",
        "  #confusion matrix\n",
        "  \"\"\"\n",
        "  cm = confusion_matrix(y_test, y_pred, labels=clf.classes_)\n",
        "  disp = ConfusionMatrixDisplay(confusion_matrix=cm, display_labels=clf.classes_)\n",
        "  disp.plot()\n",
        "  plt.show()\n",
        "  \"\"\"\n",
        "\n",
        "  #ovr roc auc\n",
        "  #y_score = clf.predict_proba(X_test)[:,1]\n",
        "  #print('roc_auc', roc_auc_score(y_test, y_score, multiclass='ovr'))\n",
        "\n",
        "  print('\\n')"
      ],
      "metadata": {
        "id": "-6dr2crSh0GE",
        "colab": {
          "base_uri": "https://localhost:8080/"
        },
        "outputId": "0f8d4c74-ef81-4381-a471-bde9fe0afa9a"
      },
      "id": "-6dr2crSh0GE",
      "execution_count": 36,
      "outputs": [
        {
          "output_type": "stream",
          "name": "stdout",
          "text": [
            "Model:  KNearest Neighbors\n",
            "                          precision    recall  f1-score   support\n",
            "\n",
            "             Inhabitable       1.00      1.00      1.00       999\n",
            "Conservatively Habitable       0.71      0.83      0.77         6\n",
            "Optimistically Habitable       1.00      0.43      0.60         7\n",
            "\n",
            "                accuracy                           1.00      1012\n",
            "               macro avg       0.90      0.75      0.79      1012\n",
            "            weighted avg       1.00      1.00      0.99      1012\n",
            "\n",
            "\n",
            "\n",
            "Model:  Linear SVM\n",
            "                          precision    recall  f1-score   support\n",
            "\n",
            "             Inhabitable       1.00      1.00      1.00       999\n",
            "Conservatively Habitable       1.00      0.67      0.80         6\n",
            "Optimistically Habitable       0.67      0.86      0.75         7\n",
            "\n",
            "                accuracy                           1.00      1012\n",
            "               macro avg       0.89      0.84      0.85      1012\n",
            "            weighted avg       1.00      1.00      1.00      1012\n",
            "\n",
            "\n",
            "\n",
            "Model:  Random Forest\n",
            "                          precision    recall  f1-score   support\n",
            "\n",
            "             Inhabitable       1.00      1.00      1.00       999\n",
            "Conservatively Habitable       1.00      0.83      0.91         6\n",
            "Optimistically Habitable       1.00      1.00      1.00         7\n",
            "\n",
            "                accuracy                           1.00      1012\n",
            "               macro avg       1.00      0.94      0.97      1012\n",
            "            weighted avg       1.00      1.00      1.00      1012\n",
            "\n",
            "\n",
            "\n",
            "Model:  Neural Net\n",
            "                          precision    recall  f1-score   support\n",
            "\n",
            "             Inhabitable       1.00      1.00      1.00       999\n",
            "Conservatively Habitable       1.00      0.67      0.80         6\n",
            "Optimistically Habitable       0.78      1.00      0.88         7\n",
            "\n",
            "                accuracy                           1.00      1012\n",
            "               macro avg       0.93      0.89      0.89      1012\n",
            "            weighted avg       1.00      1.00      1.00      1012\n",
            "\n",
            "\n",
            "\n",
            "Model:  AdaBoost\n",
            "                          precision    recall  f1-score   support\n",
            "\n",
            "             Inhabitable       1.00      1.00      1.00       999\n",
            "Conservatively Habitable       1.00      1.00      1.00         6\n",
            "Optimistically Habitable       1.00      1.00      1.00         7\n",
            "\n",
            "                accuracy                           1.00      1012\n",
            "               macro avg       1.00      1.00      1.00      1012\n",
            "            weighted avg       1.00      1.00      1.00      1012\n",
            "\n",
            "\n",
            "\n",
            "Model:  XGBoost\n",
            "                          precision    recall  f1-score   support\n",
            "\n",
            "             Inhabitable       1.00      1.00      1.00       999\n",
            "Conservatively Habitable       1.00      0.83      0.91         6\n",
            "Optimistically Habitable       1.00      1.00      1.00         7\n",
            "\n",
            "                accuracy                           1.00      1012\n",
            "               macro avg       1.00      0.94      0.97      1012\n",
            "            weighted avg       1.00      1.00      1.00      1012\n",
            "\n",
            "\n",
            "\n",
            "[LightGBM] [Warning] bagging_fraction is set=0.8, subsample=1.0 will be ignored. Current value: bagging_fraction=0.8\n",
            "[LightGBM] [Warning] feature_fraction is set=0.2319, colsample_bytree=1.0 will be ignored. Current value: feature_fraction=0.2319\n",
            "[LightGBM] [Warning] min_sum_hessian_in_leaf is set=11, min_child_weight=0.001 will be ignored. Current value: min_sum_hessian_in_leaf=11\n",
            "[LightGBM] [Warning] min_data_in_leaf is set=1, min_child_samples=20 will be ignored. Current value: min_data_in_leaf=1\n",
            "[LightGBM] [Warning] bagging_freq is set=5, subsample_freq=0 will be ignored. Current value: bagging_freq=5\n",
            "Model:  LightGBM\n",
            "                          precision    recall  f1-score   support\n",
            "\n",
            "             Inhabitable       1.00      0.98      0.99       999\n",
            "Conservatively Habitable       0.23      1.00      0.38         6\n",
            "Optimistically Habitable       1.00      0.14      0.25         7\n",
            "\n",
            "                accuracy                           0.98      1012\n",
            "               macro avg       0.74      0.71      0.54      1012\n",
            "            weighted avg       0.99      0.98      0.98      1012\n",
            "\n",
            "\n",
            "\n"
          ]
        }
      ]
    },
    {
      "cell_type": "code",
      "source": [
        "#TOTRY:\n",
        "\n",
        "\"\"\"\n",
        "Feature Selection using Information Gain, RF Feature importance, Chi-squared test, Fisher Score\n",
        "KFold cross validation not sure if imbalance will be a problem for this\n",
        "Grid/Random Search Hyperparameters\n",
        "Custom Evaluation ROC/AUC with OVR\n",
        "\"\"\""
      ],
      "metadata": {
        "id": "dklOitZp0CWX",
        "colab": {
          "base_uri": "https://localhost:8080/",
          "height": 53
        },
        "outputId": "9179dffb-db4f-41d8-c324-1b3e3ae1917b"
      },
      "id": "dklOitZp0CWX",
      "execution_count": 37,
      "outputs": [
        {
          "output_type": "execute_result",
          "data": {
            "text/plain": [
              "'\\nFeature Selection using Information Gain, RF Feature importance, Chi-squared test, Fisher Score\\nKFold cross validation not sure if imbalance will be a problem for this\\nGrid/Random Search Hyperparameters\\nCustom Evaluation ROC/AUC with OVR\\n'"
            ],
            "application/vnd.google.colaboratory.intrinsic+json": {
              "type": "string"
            }
          },
          "metadata": {},
          "execution_count": 37
        }
      ]
    }
  ],
  "metadata": {
    "kernelspec": {
      "display_name": "Python 3 (ipykernel)",
      "language": "python",
      "name": "python3"
    },
    "language_info": {
      "codemirror_mode": {
        "name": "ipython",
        "version": 3
      },
      "file_extension": ".py",
      "mimetype": "text/x-python",
      "name": "python",
      "nbconvert_exporter": "python",
      "pygments_lexer": "ipython3",
      "version": "3.10.9"
    },
    "colab": {
      "provenance": [],
      "collapsed_sections": [
        "I1NTHQcfx1u8",
        "fb3f8216",
        "2c66be78",
        "YB3BDn4BHlGv",
        "DJZlv62D-nln"
      ]
    }
  },
  "nbformat": 4,
  "nbformat_minor": 5
}